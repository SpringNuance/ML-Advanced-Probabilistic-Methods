{
 "cells": [
  {
   "cell_type": "markdown",
   "metadata": {
    "deletable": false,
    "editable": false,
    "nbgrader": {
     "cell_type": "markdown",
     "checksum": "a42130e852daf4be6e4d78483b962cfd",
     "grade": false,
     "grade_id": "cell-5b335005bb36ae92",
     "locked": true,
     "schema_version": 3,
     "solution": false,
     "task": false
    }
   },
   "source": [
    "## CS-E4820 Machine Learning: Advanced Probabilistic Methods (Spring 2023)\n",
    "\n",
    "Pekka Marttinen, Vishnu Raj, Antti Pöllänen, Nikitin Alexander, Sebastiaan De Peuter, Tommi Gröhn, Julien Martinelli, Ali Khoshvishkaie, Onur Poyraz\n",
    "\n",
    "\n",
    "## Exercise 5, due on Tuesday March 7 at 23:50.\n",
    "\n",
    "### Contents\n",
    "1. Problem 1: EM for missing observations\n",
    "2. Problem 2: Extension of 'simple example' from the lecture\n",
    "3. Problem 3: PyTorch"
   ]
  },
  {
   "cell_type": "markdown",
   "metadata": {
    "deletable": false,
    "editable": false,
    "nbgrader": {
     "cell_type": "markdown",
     "checksum": "18c12b98afa6a333b6b4717029202b7d",
     "grade": false,
     "grade_id": "cell-298bb2ed1de6d806",
     "locked": true,
     "points": 2,
     "schema_version": 3,
     "solution": false,
     "task": true
    }
   },
   "source": [
    "# Problem 1: EM for missing observations\n",
    "Suppose random variables $X_{i}$ follow a bivariate normal distribution $X_{i}\\sim \\mathcal{N}_{2}(0,\\Sigma)$, where\n",
    "$ \\Sigma = \\begin{bmatrix} 1 & \\rho\\\\ \\rho & 1 \\end{bmatrix} $.\n",
    "\n",
    "Suppose further that we have observations on $X_{1}=(X_{11},X_{12})^{T}$, $X_{2}=(X_{21},X_{22})^{T}$ and $X_{3}=(X_{31},X_{32})^{T}$, such that\n",
    "$X_{1}$ and $X_{3}$ are fully observed, and from $X_{2}$ we have observed only\n",
    "the second coordinate. Thus, our data matrix can be written as\n",
    "\n",
    "$$\n",
    "\\begin{bmatrix}\n",
    "x_{11} & x_{12}\\\\\n",
    "? & x_{22}\\\\\n",
    "x_{31} & x_{32}\n",
    "\\end{bmatrix} \n",
    "$$\n",
    "\n",
    "\n",
    "where the rows correspond to the transposed observations $\\mathbf{x}_{1}^{T},\\mathbf{x}_{2}^{T},\\mathbf{x}_{3}^{T}$. Suppose we want to learn the unknown parameter $\\rho$ using the EM-algorithm. Denote the missing observation by $Z$ and derive the E-step of the algorithm, i.e., __(a)__ write the complete data log-likelihood $\\ell(\\rho)$, __(b)__ compute the posterior distribution of the missing observation, given the observed variables and current estimate for $\\rho$, and __(c)__ evaluate the expectation of $\\ell(\\rho)$ with respect to the posterior distribution of the missing observations.\n",
    "\n",
    "**Hints**:\n",
    "\n",
    "1. In general, for $X \\sim \\mathcal{N}_2(\\boldsymbol{\\mu},\\boldsymbol{\\Sigma})$, where $X=(X_1, X_2)^{T}$, $\\boldsymbol{\\mu}=(\\mu_1, \\mu_2)^{T}$ and $\\boldsymbol{\\Sigma} = \\begin{pmatrix} \n",
    "            \\sigma_1^{2} & \\rho\\sigma_{1}\\sigma_{2} \\\\ \n",
    "            \\rho\\sigma_{1}\\sigma_{2} & \\sigma_2^{2} \n",
    "            \\end{pmatrix}$, \n",
    "we have \n",
    "$$ X_1 \\mid X_2 = x_2 \\sim \\mathcal{N}\\left(\\mu_1 + \\frac{\\sigma_1}{\\sigma_2}\\rho(x_2-\\mu_2), (1-\\rho^2)\\sigma_1^{2}\\right),$$  with $\\rho$ being the correlation coefficient.\n",
    "2. For evaluating the expectation of $\\ell(\\rho)$, you can make use of the following two rules: \n",
    "    - $\\mathbf{x_2}^T \\boldsymbol{\\Sigma}^{-1} \\mathbf{x_2} = trace(\\boldsymbol{\\Sigma}^{-1}\\mathbf{x_2x_2^T}).$\n",
    "    - if $X \\sim \\mathcal{N}(\\mu, \\sigma^2)$ then $\\langle{X^2}\\rangle = \\mu^2 + \\sigma^2$.\n",
    "\n",
    "\n"
   ]
  },
  {
   "cell_type": "markdown",
   "metadata": {},
   "source": [
    "YOUR ANSWER HERE"
   ]
  },
  {
   "cell_type": "markdown",
   "metadata": {},
   "source": [
    "__(a)__ write the complete data log-likelihood $\\ell(\\rho)$\n",
    "\n",
    "Complete data refers to a data that contains all the information that is needed to perform a statistical analysis. This means that every observation in the data set has values for all the variables of interest, and there are no missing variables. Therefore, the complete data log likelihood of $\\mathbf{x}$ based on $\\rho$ is:\n",
    "\n",
    "$\\ell(\\rho) = \\sum^3_{i=1} \\log p(\\textbf{x}_i|\\rho)$, where $\\mathbf{x}_2$ is treated as complete instead of missing\n",
    "\n",
    "\n",
    "$=> \\ell(\\rho) = \\sum^3_{i=1} \n",
    "\\log \\left(\n",
    "\\dfrac{1}{\\sqrt{\\det(2 \\pi \\boldsymbol{\\Sigma})}} \\exp\\left(-\\dfrac{1}{2}(\\mathbf{x}_i - \\mu)^T \\boldsymbol{\\Sigma}^{-1} (\\mathbf{x}_i - \\mu)\\right)\n",
    "\\right)$\n",
    "\n",
    "$=> \\ell(\\rho) = \\sum^3_{i=1} \n",
    "\\log \\left(\n",
    "\\det(2 \\pi \\boldsymbol{\\Sigma})^{-\\frac{1}{2}} \\exp\\left(-\\dfrac{1}{2}(\\mathbf{x}_i - 0)^T \\boldsymbol{\\Sigma}^{-1} (\\mathbf{x}_i - 0)\\right)\n",
    "\\right)$\n",
    "\n",
    "$=> \\ell(\\rho) = \\sum^3_{i=1} \n",
    "\\log \\left(\\det(2 \\pi \\boldsymbol{\\Sigma})^{-\\frac{1}{2}}\\right)\n",
    "+ \\log \\exp \\left(-\\dfrac{1}{2}\\mathbf{x}_i^T \\boldsymbol{\\Sigma}^{-1} \\mathbf{x}_i\\right)\n",
    "$\n",
    "\n",
    "$=> \\ell(\\rho) = \\sum^3_{i=1} \n",
    "\\left({-\\dfrac{1}{2}} \\log \\left(\\det(2 \\pi \\boldsymbol{\\Sigma})\\right)\n",
    " -\\dfrac{1}{2}\\mathbf{x}_i^T \\boldsymbol{\\Sigma}^{-1} \\mathbf{x}_i\\right)\n",
    "$\n",
    "\n",
    "Observing that the term $-\\dfrac{1}{2} \\log (\\det(2 \\pi \\boldsymbol{\\Sigma}))$ is independent of $\\mathbf{x}_i$, so the log likelihood can be rephrased as:\n",
    "\n",
    "$=> \\ell(\\rho)  = -\\dfrac{3}{2} \\log \\det (2 \\pi \\boldsymbol{\\Sigma}) - \\sum\\limits^3_{i=1} \\dfrac{1}{2} \\mathbf{x}_i^T \\boldsymbol{\\Sigma}^{-1}\\mathbf{x}_i$ (answer), where $\\boldsymbol{\\Sigma}$ is a matrix dependent of $\\rho$\n",
    "\n"
   ]
  },
  {
   "cell_type": "markdown",
   "metadata": {},
   "source": [
    "__(b)__ compute the posterior distribution of the missing observation, given the observed variables and current estimate for $\\rho$\n",
    "\n",
    "According to the hint, for $X \\sim \\mathcal{N}_2(\\boldsymbol{\\mu},\\boldsymbol{\\Sigma})$, where $X=(X_1, X_2)^{T}$, $\\boldsymbol{\\mu}=(\\mu_1, \\mu_2)^{T}$ and $\\boldsymbol{\\Sigma} = \\begin{pmatrix} \n",
    "            \\sigma_1^{2} & \\rho\\sigma_{1}\\sigma_{2} \\\\ \n",
    "            \\rho\\sigma_{1}\\sigma_{2} & \\sigma_2^{2} \n",
    "            \\end{pmatrix}$, \n",
    "we have \n",
    "$$ X_1 \\mid X_2 = x_2 \\sim \\mathcal{N}\\left(\\mu_1 + \\frac{\\sigma_1}{\\sigma_2}\\rho(x_2-\\mu_2), (1-\\rho^2)\\sigma_1^{2}\\right),$$  with $\\rho$ being the correlation coefficient.\n",
    "\n",
    "Additionally, we know that $X_{i}\\sim \\mathcal{N}_{2}(0,\\Sigma)$, where $\\Sigma = \\begin{bmatrix} 1 & \\rho\\\\ \\rho & 1 \\end{bmatrix}$, which means that $\\mu_1 = 0, \\mu_2 = 0, \\sigma_1 = 1, \\sigma_2 = 1$. Therefore, the posterior of the unknown variable Z with respect to the 2nd element of the 2nd datapoint, $X_{22}$, is given by\n",
    "\n",
    "$p(Z|X_{22} = x_{22}) \\sim \\mathcal{N}\\left(\\mu_1 + \\dfrac{\\sigma_1}{\\sigma_2}\\rho_c(x_{22}-\\mu_2), (1-\\rho_c^2)\\sigma_1^{2}\\right)$\n",
    "\n",
    "$=> p(Z|X_{22} = x_{22}) \\sim \\mathcal{N}\\left(0 + \\dfrac{1}{1}\\rho_c(x_{22}-0), (1-\\rho_c^2)1^{2}\\right)$\n",
    "\n",
    "$=> p(Z|X_{22} = x_{22}) \\sim \\mathcal{N}\\left(\\rho_c x_{22}, 1-\\rho_c^2\\right)$ (answer), where $\\rho_c$ is the current estimate of the correlation coefficient"
   ]
  },
  {
   "cell_type": "markdown",
   "metadata": {},
   "source": [
    "__(c)__ Evaluate the expectation of $\\ell(\\rho)$ with respect to the posterior distribution of the missing observations.\n",
    "\n",
    "The expectation of the log likelihood with respect to the posterior distribution of Z is:\n",
    "\n",
    "$\\langle{\\ell(\\rho)}\\rangle = \n",
    "\\left\\langle{-\\dfrac{3}{2} \\log \\det (2 \\pi \\boldsymbol{\\Sigma}) - \\sum\\limits^3_{i=1} \\dfrac{1}{2} \\mathbf{x}_i^T \\boldsymbol{\\Sigma}^{-1}\\mathbf{x}_i}\\right\\rangle$ (result from part (a))\n",
    "\n",
    "Because only $\\mathbf{x}_2$ contains Z, it means the expectation will treat other terms as constant, which looks like this:\n",
    "$\\langle{\\ell(\\rho)}\\rangle = -\\dfrac{3}{2} \\log \\det (2 \\pi \\boldsymbol{\\Sigma})\n",
    "- \\dfrac{1}{2} \\mathbf{x}_1^T \\boldsymbol{\\Sigma}^{-1}\\mathbf{x}_1\n",
    "- \\dfrac{1}{2} \\left\\langle{ \\mathbf{x}_2^T \\boldsymbol{\\Sigma}^{-1}\\mathbf{x}_2}\\right\\rangle\n",
    "- \\dfrac{1}{2} \\mathbf{x}_3^T \\boldsymbol{\\Sigma}^{-1}\\mathbf{x}_3\n",
    "$\n",
    "\n",
    "Therefore, let's focus on calculating only $\\left\\langle{ \\mathbf{x}_2^T \\boldsymbol{\\Sigma}^{-1}\\mathbf{x}_2}\\right\\rangle$, and when we obtain the result, we will plug it into this formula again\n",
    "\n",
    "According to one hint, we have $\\mathbf{x_2}^T \\boldsymbol{\\Sigma}^{-1} \\mathbf{x_2} = trace(\\boldsymbol{\\Sigma}^{-1}\\mathbf{x_2x_2^T}).$\n",
    "\n",
    "=> $\\left\\langle{\\mathbf{x_2}^T \\boldsymbol{\\Sigma}^{-1} \\mathbf{x_2}}\\right\\rangle = \\left\\langle{ trace(\\boldsymbol{\\Sigma}^{-1}\\mathbf{x_2x_2^T})}\\right\\rangle$, where we can move terms independent of $x_2$ outside the expectation\n",
    "\n",
    "=> $\\left\\langle{\\mathbf{x_2}^T \\boldsymbol{\\Sigma}^{-1} \\mathbf{x_2}}\\right\\rangle = trace\\left(\\boldsymbol{\\Sigma}^{-1}\\left\\langle{\\mathbf{x_2x_2^T}}\\right\\rangle \\right)$\n",
    "\n",
    "=> $\\left\\langle{\\mathbf{x_2}^T \\boldsymbol{\\Sigma}^{-1} \\mathbf{x_2}}\\right\\rangle = trace\\left(\\boldsymbol{\\Sigma}^{-1}\\left\\langle{\\begin{bmatrix} Z \\\\ x_{22} \\end{bmatrix} \\begin{bmatrix} Z & x_{22} \\end{bmatrix}}\\right\\rangle \\right)$\n",
    "\n",
    "=> $\\left\\langle{\\mathbf{x_2}^T \\boldsymbol{\\Sigma}^{-1} \\mathbf{x_2}}\\right\\rangle = trace\\left(\\boldsymbol{\\Sigma}^{-1}\\left\\langle{\\begin{bmatrix} Z^2 & Zx_{22} \\\\ Zx_{22} & x_{22}^2 \\end{bmatrix}}\\right\\rangle \\right)$\n",
    "\n",
    "Another given hint is that if $X \\sim \\mathcal{N}(\\mu, \\sigma^2)$ then $\\langle{X^2}\\rangle = \\mu^2 + \\sigma^2$. From part (b), we know that $p(Z|X_{22} = x_{22}) \\sim \\mathcal{N}\\left(\\rho_c x_{22}, 1-\\rho_c^2\\right)$\n",
    "\n",
    "=> $\\langle{Z^2}\\rangle = (\\rho_c x_{22})^2 + (1-\\rho_c^2)$ and $\\langle{Z}\\rangle = \\rho_c x_{22}$. Replace these into the trace equation, the new formula without expectation is derived as:\n"
   ]
  },
  {
   "cell_type": "markdown",
   "metadata": {},
   "source": [
    "=> $\\left\\langle{\\mathbf{x_2}^T \\boldsymbol{\\Sigma}^{-1} \\mathbf{x_2}}\\right\\rangle = trace\\left(\\begin{bmatrix} 1 & \\rho \\\\ \\rho & 1 \\end{bmatrix}^{-1}\\begin{bmatrix} (\\rho_c x_{22})^2 + (1-\\rho_c^2) & \\rho_c x_{22}^2 \\\\ \\rho_c x_{22}^2 & x_{22}^2 \\end{bmatrix} \\right)$\n",
    "\n",
    "=> $\\left\\langle{\\mathbf{x_2}^T \\boldsymbol{\\Sigma}^{-1} \\mathbf{x_2}}\\right\\rangle = trace\\left(\n",
    "\\begin{bmatrix} \\dfrac{1}{1 - \\rho^2} & -\\dfrac{\\rho}{1 - \\rho^2} \\\\ -\\dfrac{\\rho}{1 - \\rho^2} & \\dfrac{1}{1 - \\rho^2} \\end{bmatrix}\n",
    "\\begin{bmatrix} (\\rho_c x_{22})^2 + (1-\\rho_c^2) & \\rho_c x_{22}^2 \\\\ \\rho_c x_{22}^2 & x_{22}^2 \\end{bmatrix} \\right)$\n",
    "\n",
    "=> $\\left\\langle{\\mathbf{x_2}^T \\boldsymbol{\\Sigma}^{-1} \\mathbf{x_2}}\\right\\rangle = trace\\left(\n",
    "\\dfrac{1}{1-\\rho^2}\n",
    "\\begin{bmatrix} 1 & -\\rho \\\\ \\rho & 1 \\end{bmatrix}\n",
    "\\begin{bmatrix} (\\rho_c x_{22})^2 + (1-\\rho_c^2) & \\rho_c x_{22}^2 \\\\ \\rho_c x_{22}^2 & x_{22}^2 \\end{bmatrix} \\right)$\n",
    "\n",
    "=> $\\left\\langle{\\mathbf{x_2}^T \\boldsymbol{\\Sigma}^{-1} \\mathbf{x_2}}\\right\\rangle = trace\\left(\\dfrac{\\rho_c^2 x_{22}^2 + (1-\\rho_c^2) - 2 \\rho \\rho_c x_{22}^2 + x_{22}^2}{1- \\rho^2}\\right)$\n",
    "\n",
    "Since the whole fraction is scalar, the trace of a scalar is the scalar itself, which means we can remove the trace function. The expectation result is \n",
    "\n",
    "=> $\\left\\langle{\\mathbf{x_2}^T \\boldsymbol{\\Sigma}^{-1} \\mathbf{x_2}}\\right\\rangle = \\dfrac{\\rho_c^2 x_{22}^2 + (1-\\rho_c^2) - 2 \\rho \\rho_c x_{22}^2 + x_{22}^2}{1- \\rho^2}$ \n",
    "\n",
    "Finally, the expectation of the complete data log likelihood with respect to the posterior distribution of Z is given by: \n",
    "\n",
    "$\\langle{\\ell(\\rho)}\\rangle = -\\dfrac{3}{2} \\log \\det (2 \\pi \\boldsymbol{\\Sigma})\n",
    "\\dfrac{1}{2} \\mathbf{x}_1^T \\boldsymbol{\\Sigma}^{-1}\\mathbf{x}_1\n",
    "\\dfrac{1}{2} \\dfrac{\\rho_c^2 x_{22}^2 + (1-\\rho_c^2) - 2 \\rho \\rho_c x_{22}^2 + x_{22}^2}{1- \\rho^2}\n",
    "\\dfrac{1}{2} \\mathbf{x}_3^T \\boldsymbol{\\Sigma}^{-1}\\mathbf{x}_3\n",
    "$ (answer)"
   ]
  },
  {
   "cell_type": "markdown",
   "metadata": {
    "deletable": false,
    "editable": false,
    "nbgrader": {
     "cell_type": "markdown",
     "checksum": "e1cd36c403dde3a532a877a43ad92522",
     "grade": false,
     "grade_id": "cell-46bf29d7d4d92271",
     "locked": true,
     "points": 2,
     "schema_version": 3,
     "solution": false,
     "task": true
    }
   },
   "source": [
    "# Problem 2: Extension of 'simple example' from the lecture\n",
    "Suppose that we have $N$ independent observations $x = ( x_1, \\dots, x_N )$ from a two-component mixture of univariate Gaussian distributions with unknown mixing co-efficients and unknown mean of the second component:\n",
    "$$ p(x_{n} \\mid \\theta,\\tau)=(1-\\tau)\\mathcal{N}(x_{n}|0,1)+\\tau\\mathcal{N}(x_{n} \\mid \\theta,1).$$\n",
    "\n",
    "**(a)** Write down the complete data log-likelihood and derive the EM-algorithm for learning the maximum likelihood estimates for $\\theta$ and $\\tau$. \n",
    "\n",
    "**(b)** Simulate some data from the model ($N = 100$ samples) with the true values of parameters $\\theta$ = 3 and $\\tau = 0.5$. Run your EM algorithm to see whether the learned parameters converge close to the true values (by e.g. just listing the estimates from a few iterations or plotting them). Use the code template below (after the answer cell) as a starting point. \n",
    "\n",
    "**HINT**: The E and M steps for simple example.pdf from the lecture material looks as follows\n",
    "```Python\n",
    "\t# E-step: compute the responsibilities r2 for component 2\n",
    "\tr1_unnorm = scipy.stats.norm.pdf(x, 0, 1)\n",
    "\tr2_unnorm = scipy.stats.norm.pdf(x, theta_0, 1)\n",
    "\tr2 = r2_unnorm / (r1_unnorm + r2_unnorm)\n",
    "\t\n",
    "\t# M-step: compute the parameter value that maximizes\n",
    "\t# the expectation of the complete-data log-likelihood.\n",
    "\ttheta[it] = sum(r2 * x) / sum(r2)\n",
    "```\n",
    "\n",
    "\n",
    "\n",
    "\n"
   ]
  },
  {
   "cell_type": "markdown",
   "metadata": {},
   "source": [
    "Write your answer to Problem 2(a) here"
   ]
  },
  {
   "cell_type": "markdown",
   "metadata": {},
   "source": [
    "**(a)** Write down the complete data log-likelihood\n",
    "\n",
    "The complete data log-likelihood is the joint log likelihood of both the observed variable, $\\mathbf{x}$ and the latent variable, $\\mathbf{z}$. The log-likelihood formula is:\n",
    "\n",
    "$\\log p(\\mathbf{x}, \\mathbf{z} | \\theta, \\tau) = \\log \\left\\{\\prod\\limits^N_{n=1} p(x_n, z_n| \\theta, \\tau) \\right\\} = \\sum^N_{n=1} \\log p(x_n, z_n | \\theta, \\tau)$\n",
    "\n",
    "=> $\\log p(\\mathbf{x}, \\mathbf{z} | \\theta, \\tau) = \\sum^N_{n=1} \\log \\left(p(x_n | z_n, \\theta) p(z_n | \\tau)\\right) = \\sum^N_{n=1} \\log \\left((1-\\tau)^{z_{n1}} \\mathcal{N}(x_n|0,1)^{z_{n1}} \\times  (1-\\tau)^{z_{n2}} \\mathcal{N}(x_n|\\theta,1)^{z_{n2}}  \\right)$\n",
    "\n",
    "=> $\\log p(\\mathbf{x}, \\mathbf{z} | \\theta, \\tau) = \\sum^N_{n=1} \\left( z_{n1}\\log(1-\\tau) + z_{n1} \\log \\mathcal{N}(x_n|0,1)+ z_{n2} \\log \\tau + z_{n2} \\log \\mathcal{N}(x_n|\\theta, 1) \\right)$ (E.q 1) (answer)"
   ]
  },
  {
   "cell_type": "markdown",
   "metadata": {},
   "source": [
    "Derive the EM-algorithm for learning the maximum likelihood estimates for $\\theta$ and $\\tau$\n",
    "\n",
    "#### E-step $1^0$\n",
    "Compute the posterior distribution of the latent variables, given the\n",
    "current estimate $\\theta_0$ of $\\theta$:\n",
    "\n",
    "$p(z_{n1} = 1|x_n,\\theta_0, \\tau_0) \\propto p(z_{n1}=1)p(x_n|z_n, \\theta_0, \\tau_0) = (1 - \\tau_0) \\mathcal{N}(x_n|0,1)$ (E.q 2)\n",
    "\n",
    "$p(z_{n2} = 1|x_n,\\theta_0, \\tau_0) \\propto p(z_{n2}=1)p(x_n|z_n, \\theta_0, \\tau_0) =  \\tau_0 \\mathcal{N}(x_n | \\theta_0, 1) $ (E.q 3)\n",
    "\n",
    "By normalizing these two equations E.q 2 and E.q 3, we get:\n",
    "\n",
    "$ \\gamma(z_{n2}) = p(z_{n2} = 1|x_n,\\theta_0) \\propto \\dfrac{\\tau_0 \\mathcal{N}(x_n | \\theta_0, 1)}\n",
    "{\\tau_0 \\mathcal{N}(x_n | \\theta_0, 1) + (1 - \\tau_0) \\mathcal{N}(x_n | 0, 1)}$ (E.q 4)\n",
    "\n",
    "#### E-step $2^0$\n",
    "Evaluate the expectation of the complete data log-likelihood over the posterior distribution of the latent variables in E.q 4\n",
    "\n",
    "$\\mathcal{Q}(\\theta, \\tau|\\theta_0, \\tau_0) = E_{z|x,\\theta_0, \\tau_0} [\\log p(\\mathbf{x},\\mathbf{z}|\\theta,\\tau))]$\n",
    "\n",
    "$=> \\mathcal{Q}(\\theta, \\tau|\\theta_0, \\tau_0) = \\sum^N_{n=1} \\{ \n",
    "E[z_{n1}] \\log[(1 - \\tau) \\mathcal{N}(x_n|0,1)] + E[z_{n2}] \\log [\\tau \\mathcal{N}(x_n|\\theta, 1)]\n",
    "\\}$\n",
    "\n",
    "$=> \\mathcal{Q}(\\theta, \\tau|\\theta_0, \\tau_0) = \\sum^N_{n=1} \\gamma(z_{n1})\\log(1-\\tau) + \\gamma(z_{n1}) \\log \\mathcal{N}(x_n|0,1)+ \\gamma(z_{n2}) \\log \\tau + \\gamma(z_{n2}) \\log \\mathcal{N}(x_n|\\theta, 1)$ (answer)"
   ]
  },
  {
   "cell_type": "markdown",
   "metadata": {},
   "source": [
    "#### M-step\n",
    "\n",
    "Maximize $\\mathcal{Q}(\\theta; \\theta_0)$ with respect to $\\theta$. To differentiate $\\mathcal{Q}(\\theta; \\theta_0)$, the following result can be verified by straightforward computation\n",
    "\n",
    "$\\dfrac{d}{d\\theta} \\mathcal{N}(x_n|\\theta,1)=\\mathcal{N}(x_n|\\theta,1)(x_n-\\theta)$\n",
    "\n",
    "Setting $\\dfrac{d}{d\\theta}\\mathcal{Q}(\\theta; \\theta_0)=0 $, we get the result for $\\theta$ \n",
    "\n",
    "$$\\theta = \\dfrac{1}{N_2} \\sum^N_{n=1} \\gamma(z_{n2})x_n \\text{(answer)}$$\n",
    "\n",
    "where we have defined $N_2 = \\sum^N_{n=1} \\gamma(z_{n2})$; which can be interpreted as the\n",
    "effective number of observations assigned to the component 2. Similarly, we can also define  $N_1 = \\sum^N_{n=1} \\gamma(z_{n1})$ for the first component\n",
    "\n",
    "Maximizing for $\\tau$:\n",
    "\n",
    "$\\dfrac{d}{d\\tau} \\mathcal{Q}(\\tau; \\tau_0) = \\sum_n \\left[\\dfrac{\\gamma(z_{n2})}{\\tau} - \\dfrac{\\gamma(z_{n1})}{1 - \\tau}    \\right] = \\dfrac{N_2}{\\tau} - \\dfrac{N_1}{1-\\tau} = 0,$\n",
    "\n",
    "$\\dfrac{d}{d\\tau} \\mathcal{Q}(\\tau; \\tau_0) = \\dfrac{d}{d\\tau} \\sum^N_{n=1} \\gamma(z_{n1})\\log(1-\\tau) + \\gamma(z_{n1}) \\log \\mathcal{N}(x_n|0,1)+ \\gamma(z_{n2}) \\log \\tau + \\gamma(z_{n2}) \\log \\mathcal{N}(x_n|\\theta, 1)$\n",
    "\n",
    "$\\dfrac{d}{d\\tau} \\mathcal{Q}(\\tau; \\tau_0) = \\sum^N_{n=1} - \\dfrac{\\gamma(z_{n1})}{1 - \\tau} + 0 + \\dfrac{\\gamma(z_{n2})}{\\tau} + 0  = \\sum^N_{n=1} - \\dfrac{\\gamma(z_{n1})}{1 - \\tau} + \\dfrac{\\gamma(z_{n2})}{\\tau} = - \\dfrac{N_1}{1-\\tau} + \\dfrac{N_2}{\\tau} $\n",
    "\n",
    "Setting $\\dfrac{d}{d\\tau} \\mathcal{Q}(\\tau; \\tau_0) = 0$, we get the result for $\\tau$ \n",
    "\n",
    "$$- \\dfrac{N_1}{1-\\tau} + \\dfrac{N_2}{\\tau} = 0 => \\tau = \\dfrac{N_2}{N_1+N_2} \\text{ (answer)}$$"
   ]
  },
  {
   "cell_type": "code",
   "execution_count": 1,
   "metadata": {
    "deletable": false,
    "nbgrader": {
     "cell_type": "code",
     "checksum": "b479fd715d72b0417e4f3ac4c0f8e914",
     "grade": false,
     "grade_id": "cell-1abac854e88e7dc1",
     "locked": false,
     "schema_version": 3,
     "solution": true,
     "task": false
    }
   },
   "outputs": [
    {
     "name": "stdout",
     "output_type": "stream",
     "text": [
      "theta       tau\n",
      "1.0000000  0.1000000\n",
      "3.2393002  0.3798055\n",
      "3.2787207  0.5396835\n",
      "3.2208416  0.5618515\n",
      "3.2012856  0.5684228\n",
      "3.1949151  0.5705275\n",
      "3.1928396  0.5712102\n",
      "3.1921631  0.5714324\n",
      "3.1919426  0.5715048\n",
      "3.1918707  0.5715284\n",
      "3.1918472  0.5715361\n",
      "3.1918396  0.5715386\n",
      "3.1918371  0.5715394\n",
      "3.1918363  0.5715397\n",
      "3.1918360  0.5715397\n",
      "3.1918359  0.5715398\n",
      "3.1918359  0.5715398\n",
      "3.1918359  0.5715398\n",
      "3.1918359  0.5715398\n",
      "3.1918359  0.5715398\n"
     ]
    },
    {
     "data": {
      "image/png": "[encoded data removed]",
      "text/plain": [
       "<Figure size 640x480 with 1 Axes>"
      ]
     },
     "metadata": {},
     "output_type": "display_data"
    }
   ],
   "source": [
    "# template for Problem 2(b)\n",
    "import numpy as np\n",
    "import scipy.stats\n",
    "import matplotlib.pyplot as plt\n",
    "\n",
    "\n",
    "### Simulate data:\n",
    "\n",
    "np.random.seed(0)\n",
    "\n",
    "theta_true = 3\n",
    "tau_true = 0.5\n",
    "n_samples = 100\n",
    "\n",
    "x = np.zeros(n_samples)\n",
    "for i in range(n_samples):\n",
    "    # Sample from N(0,1) or N(theta_true,1)\n",
    "    if np.random.rand() < 1 - tau_true:\n",
    "        x[i] = np.random.normal(0, 1)\n",
    "    else:\n",
    "        x[i] = np.random.normal(theta_true, 1)\n",
    "\n",
    "\n",
    "### The EM algorithm:\n",
    "\n",
    "n_iter = 20\n",
    "theta = np.zeros(n_iter)\n",
    "tau = np.zeros(n_iter)\n",
    "\n",
    "# Initial guesses for theta and tau\n",
    "theta[0] = 1\n",
    "tau[0] = 0.1\n",
    "\n",
    "for it in range(1, n_iter):\n",
    "    # The current estimates for theta and tau,\n",
    "    # computed in the previous iteration\n",
    "    theta_0 = theta[it-1]\n",
    "    tau_0 = tau[it-1]\n",
    "\n",
    "    # E-step: compute the responsibilities r1 and r2\n",
    "    # r1 = ?\n",
    "    # r2 = ?\n",
    "    \n",
    "    p_zn1_equals_1 = (1 - tau_0) * scipy.stats.norm.pdf(x, 0, 1)\n",
    "    p_zn2_equals_1 = tau_0 * scipy.stats.norm.pdf(x, theta_0, 1)\n",
    "    # This is gamma(z_n2)\n",
    "    r2 = p_zn2_equals_1 / (p_zn1_equals_1 + p_zn2_equals_1)\n",
    "    # This is gamma(z_n2)\n",
    "    r1 = 1 - r2\n",
    "\n",
    "    # YOUR CODE HERE\n",
    "    # raise NotImplementedError()\n",
    "\n",
    "    # M-step: compute the parameter values that maximize\n",
    "    # the expectation of the complete-data log-likelihood.\n",
    "    # theta[it] = ?\n",
    "    # tau[it] = ?\n",
    "    N1 = np.sum(r1)\n",
    "    N2 = np.sum(r2)\n",
    "    theta[it] = np.sum(r2*x) / N2\n",
    "    tau[it] = N2/(N1+N2)\n",
    "    # YOUR CODE HERE\n",
    "    #raise NotImplementedError()\n",
    "    \n",
    "\n",
    "# Print and plot the values of theta and tau in each iteration\n",
    "print(\"theta       tau\")\n",
    "for theta_i, tau_i in zip(theta, tau):\n",
    "    print(\"{0:.7f}  {1:.7f}\".format(theta_i, tau_i))\n",
    "\n",
    "plt.plot(range(n_iter), theta, label = 'theta')\n",
    "plt.plot(range(n_iter), tau, label = 'tau')\n",
    "plt.xlabel('Iteration')\n",
    "plt.legend()\n",
    "plt.show()"
   ]
  },
  {
   "cell_type": "markdown",
   "metadata": {
    "deletable": false,
    "editable": false,
    "nbgrader": {
     "cell_type": "markdown",
     "checksum": "82083e7d021d449db017e6010251e7ad",
     "grade": false,
     "grade_id": "cell-482274cb8fbd6887",
     "locked": true,
     "points": 2,
     "schema_version": 3,
     "solution": false,
     "task": true
    }
   },
   "source": [
    "### Problem 3: PyTorch\n",
    "Go through the PyTorch tutorials in the three links and answer the questions given below\n",
    "\n",
    "1) What is PyTorch: https://pytorch.org/tutorials/beginner/blitz/tensor_tutorial.html#sphx-glr-beginner-blitz-tensor-tutorial-py\n",
    "\n",
    "2) Autograd: https://pytorch.org/tutorials/beginner/blitz/autograd_tutorial.html#sphx-glr-beginner-blitz-autograd-tutorial-py\n",
    "\n",
    "3) Linear regression with PyTorch: https://github.com/yunjey/pytorch-tutorial/blob/master/tutorials/01-basics/linear_regression/main.py\n",
    "\n",
    "__(a)__ What are PyTorch Tensors and how do you run a CPU tensor on GPU? \n",
    "\n",
    "\n",
    "__(b)__ What is Automatic differentiation and autograd? \n",
    "\n",
    "\n",
    "__(c)__ PyTorch constructs the computation graph dynamically as the operations are defined. In the 'linear regression with PyTorch' tutorial which line numbers indicates the completion of the computation graph, computation of the gradients and update of the weights, respectively? \n",
    "\n"
   ]
  },
  {
   "cell_type": "markdown",
   "metadata": {},
   "source": [
    "Write your answer to Problem 3 here."
   ]
  },
  {
   "cell_type": "markdown",
   "metadata": {},
   "source": [
    "(a) PyTorch Tensors are multi-dimensional arrays with support for efficient scientific computing operations. They are similar to NumPy arrays, but it can also utilize the graphics processing units (GPUs) for faster computation. PyTorch Tensors can also be used for automatic differentiation, which is essential for training neural networks using techniques such as backpropagation. PyTorch tensors come in different data types such as float, double, and int. Additionally, they can be initialized from existing data sources such as NumPy arrays or Python lists. \n",
    "\n",
    "To run a CPU tensor on GPU in PyTorch, there are several methods:\n",
    "\n",
    "PyTorch provides a simple to use API to transfer the tensor generated on CPU to GPU, which is the .to(device) method, where device is the hardware that Pytorch runs on\n",
    "> device = torch.device(\"cuda:0\" if torch.cuda.is_available() else \"cpu\")\n",
    "> X_train = X_train.to(device)\n",
    "\n",
    "Or we can also set the device parameter in the tensor initialization\n",
    "> device = torch.device(\"cuda:0\" if torch.cuda.is_available() else \"cpu\")\n",
    "> X_train = torch.FloatTensor([0., 1., 2.], device = device)\n",
    "\n",
    "In PyTorch, the torch.cuda package has additional support for CUDA tensor types that implement the same function as CPU tensors, but they utilize GPUs for computation.\n",
    "If we want a tensor to be on GPU, we can call .cuda().\n",
    "> X_train = torch.FloatTensor([0., 1., 2.])\n",
    "> X_train = X_train.cuda() \n",
    "\n",
    "(b) Automatic differentiation is a technique used in optimization mathematics and machine learning for efficiently computing the derivatives of functions defined by computer programs. It is particularly useful for computing gradients, which are used in optimization algorithms such as stochastic gradient descent (SGD) for training machine learning models.\n",
    "\n",
    "Autograd is a package in PyTorch that provides automatic differentiation technique mentioned above. It allows computation of gradients of tensor-valued functions of tensors without the need for explicit differentiation rules or formulas. Autograd works by building a computational graph of the operations performed on the input tensors and then using the chain rule of differentiation to compute the gradients of the output with respect to the inputs.\n",
    "\n",
    "(c) \n",
    "In the 'linear regression with PyTorch' tutorial, the line number indicating the completion of the computation graph is at line 37, while the computation of the gradients is line 41 and update of the weights is on line 42 "
   ]
  }
 ],
 "metadata": {
  "kernelspec": {
   "display_name": "Python 3",
   "language": "python",
   "name": "python3"
  },
  "language_info": {
   "codemirror_mode": {
    "name": "ipython",
    "version": 3
   },
   "file_extension": ".py",
   "mimetype": "text/x-python",
   "name": "python",
   "nbconvert_exporter": "python",
   "pygments_lexer": "ipython3",
   "version": "3.12.2"
  },
  "varInspector": {
   "cols": {
    "lenName": 16,
    "lenType": 16,
    "lenVar": 40
   },
   "kernels_config": {
    "python": {
     "delete_cmd_postfix": "",
     "delete_cmd_prefix": "del ",
     "library": "var_list.py",
     "varRefreshCmd": "print(var_dic_list())"
    },
    "r": {
     "delete_cmd_postfix": ") ",
     "delete_cmd_prefix": "rm(",
     "library": "var_list.r",
     "varRefreshCmd": "cat(var_dic_list()) "
    }
   },
   "types_to_exclude": [
    "module",
    "function",
    "builtin_function_or_method",
    "instance",
    "_Feature"
   ],
   "window_display": true
  }
 },
 "nbformat": 4,
 "nbformat_minor": 4
}
