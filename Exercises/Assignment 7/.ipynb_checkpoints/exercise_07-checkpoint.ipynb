{
 "cells": [
  {
   "cell_type": "markdown",
   "metadata": {
    "deletable": false,
    "editable": false,
    "nbgrader": {
     "cell_type": "markdown",
     "checksum": "bab1a1f71f836378f3e50a4c4918d462",
     "grade": false,
     "grade_id": "cell-1ed8add4ed57ade6",
     "locked": true,
     "schema_version": 3,
     "solution": false,
     "task": false
    }
   },
   "source": [
    "## CS-E4820 Machine Learning: Advanced Probabilistic Methods (Spring 2023)\n",
    "\n",
    "Pekka Marttinen, Vishnu Raj, Antti Pöllänen, Nikitin Alexander, Sebastiaan De Peuter, Tommi Gröhn, Julien Martinelli, Ali Khoshvishkaie, Onur Poyraz\n",
    "\n",
    "## Exercise 7, due on Tuesday March 21 at 23:50.\n",
    "\n",
    "### Contents\n",
    "1. Problem 1: ELBO for simple model (1/2)\n",
    "2. Problem 2: ELBO for simple model (2/2)\n",
    "3. Problem 3: Bayes factors\n",
    "4. Problem 4: Model selection for GMM with BIC and cross-validation"
   ]
  },
  {
   "cell_type": "markdown",
   "metadata": {
    "deletable": false,
    "editable": false,
    "nbgrader": {
     "cell_type": "markdown",
     "checksum": "e428aa463e9ab9e9607592c770500cd1",
     "grade": false,
     "grade_id": "cell-b7c9831bb5e281bd",
     "locked": true,
     "points": 2,
     "schema_version": 3,
     "solution": false,
     "task": true
    }
   },
   "source": [
    "# Problem 1: ELBO for the simple model (1/2)\n",
    "This problem and the next deal with deriving the ELBO for the ‘simple model’, described in the PDF document 'simple_elbo.pdf'. Before doing these exercises, familiarize yourself with the contents of the document.\n",
    "\n",
    "**(a)** Show that the general formula for ELBO, shown in Equation (8), can be written as the sum shown in Equation (9) for the simple model.\n",
    "\n",
    "**(b)** Derive the 2nd term $E_{q(\\theta)}[log p(\\theta)]$ of the ELBO. (**Hint:** recall that $Var(X)=E(X^2)-E(X)^2$).\n",
    "\n",
    "**(c)** Find out the formula for the 7th term $E_{q(\\theta)[log q(\\theta)]}$ of the ELBO. (**Hint:** see the 6th term)\n",
    "\n"
   ]
  },
  {
   "cell_type": "markdown",
   "metadata": {},
   "source": [
    "Write your answer to Problem 1 here."
   ]
  },
  {
   "cell_type": "markdown",
   "metadata": {},
   "source": [
    "**(a)** Show that the general formula for ELBO, shown in Equation (8), can be written as the sum shown in Equation (9) for the simple model.\n",
    "\n",
    "The general formula for the ELBO shown in Equation (8) is given by\n",
    "\n",
    "$\\mathcal{L}(q)=\\int q(\\mathbf{Z}) \\log \\dfrac{p(\\mathbf{X}, \\mathbf{Z})}{q(\\mathbf{Z})} d\\mathbf{Z} = E_q[\\log p(\\mathbf{X},\\mathbf{Z})] - E_q[\\log q(\\mathbf{Z})]$\n",
    "\n",
    "where $\\mathbf{Z}$ is a generic notation that includes all unobservables. In the simple example, the unobservables are the latent variable $\\mathbf{z}$ and two hyperparameters $\\tau$ and $\\theta$. On the other hand, $\\mathbf{X}$ is a notation for the observable, which is $\\mathbf{x}$ in this case. \n",
    "\n",
    "Therefore, the equation can be written specifically for this exercise as:\n",
    "\n",
    "$\\mathcal{L}(q)=E_q[\\log p(\\mathbf{x}, \\mathbf{z}, \\tau, \\theta)] - E_q[\\log q(\\mathbf{z}, \\tau, \\theta)]$ \n",
    "\n",
    "According to equation (3) in the simple example, the first term in equation (8) can be written as:\n",
    "\n",
    "$\\log(\\mathbf{x},\\mathbf{z}, \\tau, \\theta) = \n",
    "\\log p(\\tau) +\n",
    "\\log p(\\theta) + \n",
    "\\log p(\\mathbf{z}|\\tau) +\n",
    "\\log p(\\mathbf{x}|\\mathbf{z}, \\theta)$\n",
    "\n",
    "Derive its expectation by the unobservables and apply the linearity of expectation, we have:\n",
    "\n",
    "$ E_q[\\log p(\\mathbf{x}, \\mathbf{z}, \\tau, \\theta)] = E_q[\\log p(\\tau) +\n",
    "\\log p(\\theta) + \n",
    "\\log p(\\mathbf{z}|\\tau) +\n",
    "\\log p(\\mathbf{x}|\\mathbf{z}, \\theta)] = \n",
    "E_{q(\\tau)}[\\log p(\\tau)] +\n",
    "E_{q(\\theta)}[\\log p(\\theta)] + \n",
    "E_{q(\\mathbf{z})q(\\tau)}[\\log p(\\mathbf{z}|\\tau)] +\n",
    "E_{q(\\mathbf{z})q(\\theta)}[\\log p(\\mathbf{x}|\\mathbf{z}, \\theta)] \\text{ (i)}\n",
    "$ \n",
    "\n",
    "Additionally, equation (4) in the simple example shows that the second term in equation (8) can be derived using mean-field approximation:\n",
    "\n",
    "$p(\\mathbf{z}, \\tau, \\theta|\\mathbf{x}) \\approx q(\\tau)q(\\theta)\\prod_n q(z_n)$\n",
    "\n",
    "Derive its expectation by the unobservables and apply the linearity of expectation, we have:\n",
    "$E_q[\\log q(\\mathbf{z}, \\tau, \\theta)] \n",
    "\\approx E_q [\\log(q(\\tau)q(\\theta)\\prod_n q(z_n))] \n",
    "= E_q [\\log q(\\tau) + \\log q(\\theta) + \\log q(\\mathbf{z}))] \n",
    "= E_{q(\\mathbf{z})}[\\log q(\\mathbf{z})] +\n",
    "E_{q(\\tau)}[\\log q(\\tau)] +\n",
    "E_{q(\\theta)}[\\log q(\\theta)]  \\text{ (ii)}$ \n",
    "\n",
    "Replacing (i) and (ii) into equation (8), it can be written as the sum shown in Equation (9):\n",
    "\n",
    "$\\mathcal(q) = \n",
    "E_{q(\\tau)}[\\log p(\\tau)] +\n",
    "E_{q(\\theta)}[\\log p(\\theta)] + \n",
    "E_{q(\\mathbf{z})q(\\tau)}[\\log p(\\mathbf{z}|\\tau)] +\n",
    "E_{q(\\mathbf{z})q(\\theta)}[\\log p(\\mathbf{x}|\\mathbf{z}, \\theta)] -\n",
    "E_{q(\\mathbf{z})}[\\log q(\\mathbf{z})] -\n",
    "E_{q(\\tau)}[\\log q(\\tau)] -\n",
    "E_{q(\\theta)}[\\log q(\\theta)]   \\text{ (proven)}\n",
    "$ \n",
    "\n"
   ]
  },
  {
   "cell_type": "markdown",
   "metadata": {},
   "source": [
    "**(b)** Derive the 2nd term $E_{q(\\theta)}[log p(\\theta)]$ of the ELBO. (**Hint:** recall that $Var(X)=E(X^2)-E(X)^2$)."
   ]
  },
  {
   "cell_type": "markdown",
   "metadata": {},
   "source": [
    "The second term of ELBO is:\n",
    "\n",
    "$E_q(\\theta)[\\log p(\\theta)] = E_q(\\theta) \\left[\\log\\exp\\left(-\\dfrac{\\beta_0}{2} \\theta^2\\right) \\right] $ (according to the prior of $\\theta$ in the simple example)\n",
    "\n",
    "=> $E_q(\\theta)[\\log p(\\theta)] = E_q(\\theta) \\left[-\\dfrac{\\beta_0}{2} \\theta^2\\right] $, where $-\\dfrac{\\beta_0}{2}$ is independent of $\\theta$\n",
    "\n",
    "=> $E_q(\\theta)[\\log p(\\theta)]= -\\dfrac{\\beta_0}{2} E_{q(\\theta)} [\\theta^2]$. According to the hint, $Var(X)=E(X^2)-E(X)^2$ =>  $Var(\\theta)=E_{q(\\theta)}[\\theta^2]-E_{q(\\theta)}[\\theta]^2$ => $E_{q(\\theta)}[\\theta^2] = Var(\\theta) + E_{q(\\theta)}[\\theta]^2$\n",
    "\n",
    "=> $E_q(\\theta)[\\log p(\\theta)] = -\\dfrac{\\beta_0}{2} [Var(\\theta) + E_{q(\\theta)} [\\theta]^2]$. From equation (7), we have the prior distribution of the factor $\\theta$: $q(\\theta)=\\mathcal{N}(\\theta|m_2, \\beta_2^{-1})$\n",
    "                                 \n",
    "=> $E_q(\\theta)[\\log p(\\theta)] = -\\dfrac{\\beta_0}{2} [\\beta_2^{-1} + m_2^2]$ (answer)"
   ]
  },
  {
   "cell_type": "markdown",
   "metadata": {},
   "source": [
    "**(c)** Find out the formula for the 7th term $E_{q(\\theta)[log q(\\theta)]}$ of the ELBO. (**Hint:** see the 6th term)"
   ]
  },
  {
   "cell_type": "markdown",
   "metadata": {},
   "source": [
    "Because $q(\\theta)$ follows a normal distribution $\\mathcal{N}(\\theta|m_2, \\beta_2^{-1})$ => $E_{q(\\theta)}\\left[\\left(\\dfrac{\\theta - m_2}{\\beta_2^{-1/2}}\\right)^2 \\right]= 1$, by the definition of the normal distribution. Now, we can derive the expectation of the log of normal distribution for $\\theta$ as:"
   ]
  },
  {
   "cell_type": "markdown",
   "metadata": {},
   "source": [
    "$E_{q(\\theta)}[\\log q(\\theta)] = E_{q(\\theta)}\\left[\\log\\left(\\dfrac{1}{\\beta_2^{-1/2}\\sqrt{2\\pi}} \\exp\\left(\\dfrac{1}{2}\\left(\\dfrac{\\theta - m_2}{\\beta_2^{-1/2}}\\right)^2\\right)\\right)\\right]$\n",
    "\n",
    "=> $E_{q(\\theta)}[\\log q(\\theta)] = E_{q(\\theta)}\\left[\\log\\left(\\dfrac{1}{\\beta_2^{-1/2}\\sqrt{2\\pi}} \\right) + \\dfrac{1}{2}\\left(\\dfrac{\\theta - m_2}{\\beta_2^{-1/2}}\\right)^2\\right]$\n",
    "\n",
    "=> $E_{q(\\theta)}[\\log q(\\theta)] = \\log\\left(\\dfrac{\\beta_2^{1/2}}{\\sqrt{2\\pi}} \\right) + \\dfrac{1}{2} E_{q(\\theta)} \\left[ \\left(\\dfrac{\\theta - m_2}{\\beta_2^{-1/2}}\\right)^2\\right]$\n",
    "\n",
    "=> $E_{q(\\theta)}[\\log q(\\theta)] = \\dfrac{1}{2} \\log \\left(\\dfrac{\\beta_2}{2 \\pi}\\right) - \\dfrac{1}{2}$ (answer)"
   ]
  },
  {
   "cell_type": "markdown",
   "metadata": {
    "deletable": false,
    "editable": false,
    "nbgrader": {
     "cell_type": "markdown",
     "checksum": "5f1df62656e3d17cbfbefd0aa87882ff",
     "grade": false,
     "grade_id": "cell-3b2d5183dc701b48",
     "locked": true,
     "points": 2,
     "schema_version": 3,
     "solution": false,
     "task": true
    }
   },
   "source": [
    "# Problem 2: ELBO for the simple model (2/2)\n",
    "\n",
    "**(a)** Derive the 4th term $ E_{q(z)q(\\theta)}\\left[\\log p(x \\mid z, \\theta)\\right]$ of the ELBO. \n",
    "\n",
    "**Hint 1**: $E(XY) = E(X)E(Y)$ if X and Y are assumed indendent (see how this is already used in the derivation of term 3). \n",
    "\n",
    "**Hint 2**: $E(X-Y) = E(X - a + a - Y)^2$.\n",
    "\n",
    "**(b)** Implement terms 2, 4, and 7 in the code template given below. Verify that the ELBO increases when you run the VB algorithm."
   ]
  },
  {
   "cell_type": "markdown",
   "metadata": {},
   "source": [
    "Write your answer to Problem 2 here."
   ]
  },
  {
   "cell_type": "markdown",
   "metadata": {},
   "source": [
    "**(a)** Derive the 4th term $ E_{q(z)q(\\theta)}\\left[\\log p(x \\mid z, \\theta)\\right]$ of the ELBO. \n",
    "\n",
    "**Hint 1**: $E(XY) = E(X)E(Y)$ if X and Y are assumed indendent (see how this is already used in the derivation of term 3). \n",
    "\n",
    "**Hint 2**: $E(X-Y) = E(X - a + a - Y)^2$.\n",
    "\n",
    "The probability of this term is equal to the product of the individual probability for each datapoint $x_n$: \n",
    "\n",
    "$E_{q(\\mathbf{z})q(\\theta)} [\\log p(\\mathbf{x}|\\mathbf{z}, \\theta)] = E_{q(z_n)q(\\theta)} [\\sum^N_{n=1} \\log p(x_n|z_n \\theta)]$\n",
    "\n",
    "According to the first hint, we assume that $x_n$ are independent from each other, so the expectation of the product for each $x_n$ is also the product of the expectation of each $x_n$\n",
    "\n",
    "=> $E_{q(\\mathbf{z})q(\\theta)} [\\log p(\\mathbf{x}|\\mathbf{z}, \\theta)] = \\sum^N_{n=1}  E_{q(z_n)q(\\theta)} [\\log p(x_n|z_n \\theta)]$\n",
    "\n",
    "From Round 6 simple example on variational inference in equation (2), line 2, we have:\n",
    "\n",
    "=> $E_{q(\\mathbf{z})q(\\theta)} [\\log p(\\mathbf{x}|\\mathbf{z}, \\theta)] = \\sum^N_{n=1} E_{q(z_n)q(\\theta)} [z_{n1} \\log \\mathcal{N}(x_n|0,1) + z_{n2} \\log \\mathcal{N}(x_n|\\theta, 1)] \n",
    "$. This time there is no constant because the expectation is with respect to all conditional variables, which are $\\mathbf{z}$ and $\\theta$\n",
    "\n",
    "=> $E_{q(\\mathbf{z})q(\\theta)} [\\log p(\\mathbf{x}|\\mathbf{z}, \\theta)] = \\sum^N_{n=1} E_{q(z_n)q(\\theta)} [z_{n1} \\log \\mathcal{N}(x_n|0,1)] + E_{q(z_n)q(\\theta)}[z_{n2} \\log \\mathcal{N}(x_n|\\theta, 1)] \n",
    "$.\n",
    "\n",
    "We can observe that $z_nk$ and $x_n$ are independent of each other, so the expectation of their product is the product of their expectations"
   ]
  },
  {
   "cell_type": "markdown",
   "metadata": {},
   "source": [
    "=> $E_{q(\\mathbf{z})q(\\theta)} [\\log p(\\mathbf{x}|\\mathbf{z}, \\theta)] = \\sum^N_{n=1} E_{q(z_n)} [z_{n1}] E_{q(\\theta)}[\\log \\mathcal{N}(x_n|0,1)] + E_{q(z_n)}[z_{n2}] E_{q(\\theta)}[\\log \\mathcal{N}(x_n|\\theta, 1)] \n",
    "$.\n",
    "\n",
    "From Round 6 simple example on variational inference in equation (2), line 3\n",
    "\n",
    "=> $E_{q(\\mathbf{z})q(\\theta)} [\\log p(\\mathbf{x}|\\mathbf{z}, \\theta)] = \\sum^N_{n=1} \n",
    "E_{q(z_n)}[z_{n1}] \\left(-\\dfrac{1}{2}\\log(2\\pi) - \\dfrac{1}{2}x_n^2\\right) +\n",
    "E_{q(z_n)}[z_{n2}] \\left(-\\dfrac{1}{2}\\log(2\\pi) - \\dfrac{1}{2}E_{q(\\theta)}[(x_n-\\theta)^2]\\right)\n",
    "$\n",
    "\n",
    "From Round 6's definition of responsibilities: $r_{nk} = E_{q(z_n)}[z_{nk}]$ \n",
    "\n",
    "=> $E_{q(\\mathbf{z})q(\\theta)} [\\log p(\\mathbf{x}|\\mathbf{z}, \\theta)] = \\sum^N_{n=1} \n",
    "r_{n1} \\left(-\\dfrac{1}{2}\\log(2\\pi) - \\dfrac{1}{2}x_n^2\\right) +\n",
    "r_{n2} \\left(-\\dfrac{1}{2}\\log(2\\pi) - \\dfrac{1}{2}E_{q(\\theta)}[(x_n-\\theta)^2]\\right)\n",
    "$"
   ]
  },
  {
   "cell_type": "markdown",
   "metadata": {},
   "source": [
    "According to hint 2: $E(X-Y)^2 = E(X - a + a - Y)^2$. Let a = $m_2$ and replace into $E_{q(\\theta)}[(x_n-\\theta)^2]$\n",
    "\n",
    "=> $E_{q(\\mathbf{z})q(\\theta)} [\\log p(\\mathbf{x}|\\mathbf{z}, \\theta)] = \\sum^N_{n=1} \n",
    "r_{n1} \\left(-\\dfrac{1}{2}\\log(2\\pi) - \\dfrac{1}{2}x_n^2\\right) +\n",
    "r_{n2} \\left(-\\dfrac{1}{2}\\log(2\\pi) - \\dfrac{1}{2}E_{q(\\theta)}[(x_n-m_2+m_2-\\theta)^2]\\right)\n",
    "$\n",
    "\n",
    "We need to simplify this term $E_{q(\\theta)}[(x_n-m_2+m_2-\\theta)^2]$ as follows:\n",
    "\n",
    "$E_{q(\\theta)}[(x_n-m_2+m_2-\\theta)^2] = E_{q(\\theta)}[(x_n-m_2)^2+ 2(x_n-m_2)(m_2-\\theta) + (m_2-\\theta)^2] = E_{q(\\theta)}[(x_n-m_2)^2] +  E_{q(\\theta)}[2(x_n-m_2)(m_2-\\theta)] +  E_{q(\\theta)}[(m_2-\\theta)^2] $\n",
    "\n",
    "The first term is itself as it is independent of $\\theta$ and the second term is zero because $E_{q(\\theta)}[\\theta] = m_2$ by definition\n",
    "\n",
    "=> $E_{q(\\theta)}[(x_n-m_2+m_2-\\theta)^2] = (x_n-m_2)^2 + E_{q(\\theta)}[(m_2-\\theta)^2]$. Replace this back to the main equation:\n",
    "\n",
    "=> $E_{q(\\mathbf{z})q(\\theta)} [\\log p(\\mathbf{x}|\\mathbf{z}, \\theta)] = \\sum^N_{n=1} \n",
    "r_{n1} \\left(-\\dfrac{1}{2}\\log(2\\pi) - \\dfrac{1}{2}x_n^2\\right) +\n",
    "r_{n2} \\left(-\\dfrac{1}{2}\\log(2\\pi) - \\dfrac{1}{2}(x_n-m_2)^2 -\\dfrac{1}{2} E_{q(\\theta)}[(m_2-\\theta)^2]\\right)\n",
    "$\n",
    "\n"
   ]
  },
  {
   "cell_type": "markdown",
   "metadata": {},
   "source": [
    "=> $E_{q(\\mathbf{z})q(\\theta)} [\\log p(\\mathbf{x}|\\mathbf{z}, \\theta)] = - \\dfrac{1}{2} \\sum^N_{n=1} \n",
    "r_{n1} \\left(\\log(2\\pi) + x_n^2\\right) +\n",
    "r_{n2} \\left(\\log(2\\pi) + (x_n-m_2)^2 + E_{q(\\theta)}[(m_2-\\theta)^2]\\right)\n",
    "$\n",
    "\n",
    "=> $E_{q(\\mathbf{z})q(\\theta)} [\\log p(\\mathbf{x}|\\mathbf{z}, \\theta)] = - \\dfrac{1}{2} \\sum^N_{n=1} \n",
    "(r_{n1}+r_{n2})\\log(2\\pi) + r_{n1}x_n^2 +\n",
    "r_{n2} \\left((x_n-m_2)^2 + E_{q(\\theta)}[(m_2-\\theta)^2]\\right)\n",
    "$\n",
    "\n",
    "The sum of the responsibilities is $r_{n1} + r_{n2} = 1$ and $E_{q(\\theta)}[(m_2-\\theta)^2]$ is the variance of $\\theta$, which is $\\beta_2^{-1}$\n",
    "\n",
    "=> $E_{q(\\mathbf{z})q(\\theta)} [\\log p(\\mathbf{x}|\\mathbf{z}, \\theta)] = - \\dfrac{1}{2} \\sum^N_{n=1} \n",
    "\\log(2\\pi) + r_{n1}x_n^2 +\n",
    "r_{n2} \\left((x_n-m_2)^2 + \\beta_2^{-1}\\right)\n",
    "$\n",
    "\n",
    "=> $E_{q(\\mathbf{z})q(\\theta)} [\\log p(\\mathbf{x}|\\mathbf{z}, \\theta)] = -\\dfrac{N}{2} \\log(2\\pi) - \\dfrac{1}{2} \\sum^N_{n=1} r_{n1} x_n^2  \n",
    "- \\dfrac{1}{2} \\sum^N_{n=1} r_{n2} \\left((x_n - m_2)^2 + \\beta_2^{-1}\\right)\n",
    "$ (answer)"
   ]
  },
  {
   "cell_type": "markdown",
   "metadata": {},
   "source": [
    "**(b)** Implement terms 2, 4, and 7 in the code template given below. Verify that the ELBO increases when you run the VB algorithm."
   ]
  },
  {
   "cell_type": "markdown",
   "metadata": {},
   "source": [
    "Write your answer to Problem 2(a) here. "
   ]
  },
  {
   "cell_type": "code",
   "execution_count": 6,
   "metadata": {
    "deletable": false,
    "nbgrader": {
     "cell_type": "code",
     "checksum": "ca18c649f4a45961c14e2d47877c4504",
     "grade": false,
     "grade_id": "cell-9577326940b26f48",
     "locked": false,
     "schema_version": 3,
     "solution": true,
     "task": false
    },
    "scrolled": true
   },
   "outputs": [
    {
     "data": {
      "image/png": "[encoded data removed]",
      "text/plain": [
       "<Figure size 432x288 with 1 Axes>"
      ]
     },
     "metadata": {
      "needs_background": "light"
     },
     "output_type": "display_data"
    }
   ],
   "source": [
    "# Template for problem 2(b). \n",
    "import numpy as np\n",
    "import matplotlib.pyplot as plt\n",
    "\n",
    "np.random.seed(123123123)\n",
    "\n",
    "# Compute ELBO for the model described in simple_elbo.pdf\n",
    "def compute_elbo(alpha_tau, beta_tau, r1, r2, m2, beta2, alpha0, beta0, x):\n",
    "    \n",
    "    from scipy.special import psi, gammaln # digamma function, logarithm of gamma function\n",
    "    \n",
    "    # E[log p(tau)]\n",
    "    term1 = (alpha0 - 1) * (psi(alpha_tau) + psi(beta_tau) - 2 * psi(alpha_tau + beta_tau))\n",
    "\n",
    "    # E[log p(theta)] <???>\n",
    "    term2 = -(1/2) * beta0 * (m2**2/beta2)\n",
    "    \n",
    "    # YOUR CODE HERE\n",
    "    # raise NotImplementedError()\n",
    "\n",
    "    # E[log p(z|tau)]\n",
    "    N2 = np.sum(r2); N1 = np.sum(r1); N = N1 + N2\n",
    "    term3 = N2 * psi(alpha_tau) + N1 * psi(beta_tau) - N * psi(alpha_tau + beta_tau)\n",
    "\n",
    "    # E[log p(x|z,theta)] <???>\n",
    "    term4 = -(1/2) * np.sum(r1 * x**2, axis=0) - (1/2) * np.sum(r2 * ((x-m2)**2 + 1/beta2), axis=0)\n",
    "    \n",
    "    # YOUR CODE HERE\n",
    "    # raise NotImplementedError()\n",
    "    \n",
    "\n",
    "    # Negative entropy of q(z)\n",
    "    term5 = np.sum(r1 * np.log(r1)) + np.sum(r2 * np.log(r2))\n",
    "\n",
    "    # Negative entropy of q(tau)\n",
    "    term6 = (gammaln(alpha_tau + beta_tau) - gammaln(alpha_tau) - gammaln(beta_tau)\n",
    "        + (alpha_tau - 1) * psi(alpha_tau) + (beta_tau - 1) * psi(beta_tau)\n",
    "        - (alpha_tau + beta_tau - 2) * psi(alpha_tau + beta_tau))\n",
    "\n",
    "    # Negative entropy of q(theta) <???>\n",
    "    term7 = (1/2) * np.log(beta2/2*np.pi) - (1/2)\n",
    "    \n",
    "    # YOUR CODE HERE\n",
    "    # raise NotImplementedError()\n",
    "\n",
    "    elbo = term1 + term2 + term3 + term4 - term5 - term6 - term7\n",
    "    \n",
    "    return elbo\n",
    "\n",
    "\n",
    "# Simulate data\n",
    "theta_true = 4\n",
    "tau_true = 0.3\n",
    "n_samples = 10000\n",
    "z = (np.random.rand(n_samples) < tau_true)  # True with probability tau_true\n",
    "x = np.random.randn(n_samples) + z * theta_true\n",
    "\n",
    "# Parameters of the prior distributions.\n",
    "alpha0 = 0.5\n",
    "beta0 = 0.2\n",
    "\n",
    "n_iter = 15 # The number of iterations\n",
    "elbo_array = np.zeros(n_iter) # To track the elbo\n",
    "\n",
    "# Some initial value for the things that will be updated\n",
    "E_log_tau = -0.7   # E(log(tau))\n",
    "E_log_tau_c = -0.7  # E(log(1-tau))\n",
    "E_log_var = 4 * np.ones(n_samples)  # E((x_n-theta)^2)\n",
    "r2 = 0.5 * np.ones(n_samples)  # Responsibilities of the second cluster.\n",
    "\n",
    "for i in range(n_iter):\n",
    "    \n",
    "    # Updated of responsibilites, factor q(z)\n",
    "    log_rho1 = E_log_tau_c - 0.5 * np.log(2 * np.pi) - 0.5 * (x ** 2)\n",
    "    log_rho2 = E_log_tau - 0.5 * np.log(2 * np.pi) - 0.5 * E_log_var\n",
    "    max_log_rho = np.maximum(log_rho1, log_rho2)  # Normalize to avoid numerical problems when exponentiating.\n",
    "    rho1 = np.exp(log_rho1 - max_log_rho)\n",
    "    rho2 = np.exp(log_rho2 - max_log_rho)\n",
    "    r2 = rho2 / (rho1 + rho2)\n",
    "    r1 = 1 - r2\n",
    "    \n",
    "    N1 = np.sum(r1)\n",
    "    N2 = np.sum(r2)\n",
    "    \n",
    "    # Update of factor q(tau)\n",
    "    from scipy.special import psi # digamma function\n",
    "    E_log_tau = psi(N2 + alpha0) - psi(N1 + N2 + 2*alpha0)\n",
    "    E_log_tau_c = psi(N1 + alpha0) - psi(N1 + N2 + 2*alpha0)\n",
    "    \n",
    "    # Update of factor q(theta)\n",
    "    x2_avg = 1 / N2 * np.sum(r2 * x)\n",
    "    beta_2 = beta0 + N2\n",
    "    m2 = 1 / beta_2 * N2 * x2_avg\n",
    "    E_log_var = (x - m2) ** 2 + 1 / beta_2\n",
    "    \n",
    "    # Keep track of the current estimates\n",
    "    tau_est = (N2 + alpha0) / (N1 + N2 + 2*alpha0)\n",
    "    theta_est = m2\n",
    "    \n",
    "    # Compute ELBO\n",
    "    alpha_tau = N2 + alpha0\n",
    "    beta_tau = N1 + alpha0\n",
    "    elbo_array[i] = compute_elbo(alpha_tau, beta_tau, r1, r2, m2, beta_2, alpha0, beta0, x)\n",
    "\n",
    "# Plot ELBO as a function of iteration\n",
    "plt.plot(np.arange(n_iter) + 1, elbo_array)\n",
    "plt.xticks(np.arange(n_iter) + 1)\n",
    "plt.xlabel(\"iteration\")\n",
    "plt.title(\"ELBO\")\n",
    "plt.show()"
   ]
  },
  {
   "cell_type": "markdown",
   "metadata": {},
   "source": [
    "From the figure, it appears that the ELBO value increases when the VB algorithm is run."
   ]
  },
  {
   "cell_type": "markdown",
   "metadata": {
    "deletable": false,
    "editable": false,
    "nbgrader": {
     "cell_type": "markdown",
     "checksum": "13c14e7d13b2c2b31e1ff3e966683989",
     "grade": false,
     "grade_id": "cell-47f1618ab4fa1c14",
     "locked": true,
     "points": 2,
     "schema_version": 3,
     "solution": false,
     "task": true
    }
   },
   "source": [
    "# Problem 3: Bayes factors\n",
    "Suppose we have two bags, each containing a large number of black and white marbles. To learn about the contents of the bags, we have done 5 draws from each bag. After each draw, the marble drawn has been returned to the bag. The draws from the first bag are as follows ( B, W, W, B, B ) and the draws from the second bag are ( B, B, B, B, W ) , where B corresponds to a Black marble and W to a White marble. \n",
    "\n",
    "Consider two models:\n",
    "\n",
    "- $M_1$ : the proportions of marbles are the same in the two bags\n",
    "\n",
    "- $M_2$ : the proportions of marbles are different in the two bags.\n",
    "\n",
    "**(a)** Write out the two models explicitly. Assuming that a priori all proportions are equally probable, compute the Bayes factor in favor of $M_1$.\n",
    "\n",
    "**(b)** The same as (a), but now the first set of draws contains 300 black and 200 white draws,\n",
    "and second set of draws 250 black and 250 white draws.\n",
    "\n",
    "**Hint**: Beta distribution is the conjugate prior for the Binomial/Bernoulli likelihood, and a uniform proportion corresponds to the $Beta( 1, 1)$ distribution.\n",
    "\n",
    "\n",
    "\n"
   ]
  },
  {
   "cell_type": "markdown",
   "metadata": {},
   "source": [
    "Write your answer to Problem 3 here."
   ]
  },
  {
   "cell_type": "markdown",
   "metadata": {},
   "source": [
    "**(a)** Write out the two models explicitly. Assuming that a priori all proportions are equally probable, compute the Bayes factor in favor of $M_1$."
   ]
  },
  {
   "cell_type": "markdown",
   "metadata": {},
   "source": [
    "This problem can be modeled with the Binomial distribution $Binom(n,p)$, where p is the probability of drawing a certain colored marble from each bag, while n is the number of draws from each bag. In the assignment, it is assume that n is equal for both bags and only p varies between the two models. Additionally, we assume a uniform uniform prior as Beta distribution on the probability of drawing white marbles from the two bags\n",
    "\n",
    "The first model can be formulated as:\n",
    "\n",
    "$ p_{M_1} \\sim Beta(1,1)$ (prior), where probability of white draws from each bag are equal.\n",
    "\n",
    "$ x_{i} \\sim Binom(n, p_{M_1})$ (likelihood), where the subscript $i \\in \\{1,2\\}$ is the number of black marble draws from each bag. In this case, $p_{M_1}$ is shared between two bags\n",
    "\n",
    "The second model can be formulated as:\n",
    "\n",
    "$ p_{M_{2i}} \\sim Beta(1,1)$ (prior), where probability of white draws from each bag are different.\n",
    "\n",
    "$ x_{i} \\sim Binom(n, p_{M_{2i}})$ (likelihood), where the subscript $i \\in \\{1,2\\}$ is the number of black marble draws from each bag. In this case, $p_{M_{2i}}$ is different between two bags\n"
   ]
  },
  {
   "cell_type": "markdown",
   "metadata": {},
   "source": [
    "The formula in lecture slide 5:\n",
    "\n",
    "$$ \\dfrac{p(M_i|x)}{p(M_j|x)} \\text{ Posterior odds} = \\dfrac{p(M_i|x)}{p(M_j|x)} \\text{ Bayes' factor} \\times \\dfrac{p(M_i)}{p(M_j)} \\text{ Prior odds} $$\n",
    "\n",
    "The Bayes' factor in favor of $M_1$ is:\n",
    "\n",
    "$ \\dfrac{p(x|M_1)}{p(x|M_2)}$, which is the ratio of marginal likelihoods between the two models. "
   ]
  },
  {
   "cell_type": "markdown",
   "metadata": {},
   "source": [
    "First of all, we need to calculate Beta(1,1)\n",
    "\n",
    "$Beta(\\alpha, \\beta) = \\dfrac{\\Gamma(\\alpha + \\beta)}{\\Gamma(\\alpha)\\Gamma(\\beta)} \\theta^{\\alpha-1} (1-\\theta)^{\\beta-1} $. \n",
    "\n",
    "=> $p(p_{M_1}) = Beta(1, 1) =  \\dfrac{\\Gamma(2)}{\\Gamma(1)\\Gamma(1)} \\theta^{0} (1-\\theta)^{0} = \\dfrac{1}{1} \\times 1 \\times 1 = 1$\n",
    "\n",
    "The marginal likelihood for the first model is:\n",
    "\n",
    "$$ p(x|M_1) = \\int^1_0 p(x_1|n, p_{M_1}) p(x_2|n, p_{M_1}) p(p_{M_1}) dp$$\n",
    "\n",
    "=> $$ p(x|M_1) = \\int^1_0 Binom(x_1|n,p) Binom(x_2|n, p) Beta(1,1) dp_{M_1}  $$\n",
    "\n",
    "=> $$ p(x|M_1) = \\int^1_0 \\binom{n}{x_1} p_{M_1}^{x_1}(1-p_{M_1})^{n-x_1} \\binom{n}{x_2} p_{M_1}^{x_2}(1-p_{M_1})^{n-x_2} \\mathbf{1} dp_{M_1}  $$\n",
    "\n",
    "=> $$ p(x|M_1) = \\binom{n}{x_1} \\binom{n}{x_2}  \\int^1_0  p_{M_1}^{x_1}(1-p_{M_1})^{n-x_1}  p_{M_1}^{x_2}(1-p_{M_1})^{n-x_2} dp_{M_1} $$\n",
    "\n",
    "=> $$ p(x|M_1) = \\binom{n}{x_1} \\binom{n}{x_2} \\int^1_0  p_{M_1}^{x_1 + x_2}(1-p_{M_1})^{2n-x_1-x_2}  dp_{M_1} $$\n",
    "\n",
    "This form closely resembles the Beta function (not to be confused with the Beta distribution), where Beta function is defined as:\n",
    "\n",
    "$$B(z_1, z_2) = \\int^1_0 t^{z_1 - 1} (1 - t)^{z^2 - 1} dt  = \\dfrac{\\Gamma(z_1)\\Gamma(z_2)}{\\Gamma(z_1 + z_2)} = \\dfrac{(z_1 - 1)!(z_2-1)!}{(z_1 + z_2-1)!} $$\n",
    "\n",
    "=> $$ p(x|M_1) = \\binom{n}{x_1} \\binom{n}{x_2}  \\int^1_0  p_{M_1}^{(x_1 + x_2 + 1) - 1}(1-p_{M_1})^{(2n-x_1-x_2+  1) - 1}  dp_{M_1} $$\n",
    "\n",
    "=> $$  p(x|M_1) = \\binom{n}{x_1} \\binom{n}{x_2}  B(x_1+x_2+1,2n-x_1-x_2+1)$$"
   ]
  },
  {
   "cell_type": "markdown",
   "metadata": {},
   "source": [
    "The marginal likelihood for the second model is:\n",
    "\n",
    "$$ p(x|M_2) = \\int^1_0 p(x_1|n, p_{M_{21}}) p(p_{M_{21}}) dp_{M_{21}} \\int^1_0 p(x_2|n, p_{M_{22}}) p(p_{M_{22}})  dp_{M_{22}}$$\n",
    "\n",
    "=> $$  p(x|M_2) = \\int^1_0 Binom(x_1|n, p_{M_{21}}) Beta(1,1) dp_{M_{21}} \\int^1_0 Binom(x_2|n, p_{M_{22}}) Beta(1,1) dp_{M_{22}}  $$\n",
    "\n",
    "=> $$  p(x|M_2) = \\int^1_0 \\binom{n}{x_1}  p_{M_{21}}^{x_1}(1- p_{M_{21}})^{n-x_1}\\mathbf{1} d p_{M_{21}} \\int^1_0 \\binom{n}{x_2}  p_{M_{22}}^{x_2}(1- p_{M_{22}})^{n-x_2} \\mathbf{1} d p_{M_{22}}  $$\n",
    "\n",
    "=> $$  p(x|M_2) =\\binom{n}{x_1} \\binom{n}{x_2} \\int^1_0  p_{M_{21}}^{x_1}(1- p_{M_{21}})^{n-x_1} d p_{M_{21}} \\int^1_0   p_{M_{22}}^{x_2}(1- p_{M_{22}})^{n-x_2} d p_{M_{22}}  $$\n",
    "\n",
    "Applying the Beta function, we have:\n",
    "\n",
    "=> $$  p(x|M_2) =\\binom{n}{x_1} \\binom{n}{x_2} \\int^1_0  p_{M_{21}}^{(x_1 + 1) - 1}(1- p_{M_{21}})^{(n-x_1+1)-1} d p_{M_{21}} \\int^1_0   p_{M_{22}}^{(x_2+1)-1}(1- p_{M_{22}})^{(n-x_2+1)-1} d p_{M_{22}}  $$\n",
    "\n",
    "=> $$  p(x|M_2) = \\binom{n}{x_1} \\binom{n}{x_2} B(x_1+1,n-x_1+1) B(x_2+1, n-x_2+1)  $$\n",
    "\n",
    "Finally, the Bayes' factor is:\n",
    "\n",
    "$ \\text{Bayes' factor} = \\dfrac{p(x|M_1)}{p(x|M_2)} = \\dfrac{\\binom{n}{x_1} \\binom{n}{x_2}  B(x_1+x_2+1,2n-x_1-x_2+1) }{\\binom{n}{x_1} \\binom{n}{x_2} B(x_1+1,n-x_1+1) B(x_2+1, n-x_2+1) }$\n",
    "\n",
    "=> $ \\dfrac{p(x|M_1)}{p(x|M_2)} = \\dfrac{B(x_1+x_2+1,2n-x_1-x_2+1) }{ B(x_1+1,n-x_1+1) B(x_2+1, n-x_2+1) }$"
   ]
  },
  {
   "cell_type": "markdown",
   "metadata": {},
   "source": [
    "\n",
    "\n",
    "In the problem, we have $n = 5$ for both bags, $x_1 = 3$ (3 black marble draws) for the first bag and $x_2 = 4$ (4 black marble draws) for the second bag. Replace into the Bayes factor equation, we have:\n",
    "\n",
    "$ \\dfrac{p(x|M_1)}{p(x|M_2)} = \\dfrac{B(3+4+1,2 \\times 5 - 3-4+1) }{ B(3+1,5-3+1) B(4+1, 5-4+1) } = \\dfrac{B(8, 4) }{ B(4, 3) B(5, 2)} $\n",
    "\n",
    "Beta function can be evaluated using online tools such as this link:\n",
    "https://www.wolframalpha.com/input/?i=beta+function+%283%2C5%29\n",
    "\n",
    "=> $ \\dfrac{p(x|M_1)}{p(x|M_2)} = \\dfrac{1/1320}{(1/60)(1/30)} \\approx 1.36$\n",
    "\n",
    "How to interpret the Bayes' factor: When comparing the Bayes factor to 1, a value greater than 1 indicates evidence in favor of Model 1, and a value less than 1 indicates evidence in favor of Model 2. For example, a Bayes' factor of 2 means that the data are twice as likely under Model 1 than under Model 2, providing some evidence in favor of Model 1. On the other hand, a Bayes' factor of 0.5 means that the data are twice as likely under Model 2 than under Model 1, providing evidence in favor of Model 2.\n",
    "\n",
    "In this exercise, the Bayes factor is 1.36, which supports the idea that model 1 is just slightly more likely than model 2, which is that the proportions of marbles are the same in the two bags. This is reasonable because the samples are small so it is unclear whether the draws come from the underlying bias of the two bags or just due to randomness."
   ]
  },
  {
   "cell_type": "markdown",
   "metadata": {},
   "source": [
    "**(b)** The same as (a), but now the first set of draws contains 300 black and 200 white draws,\n",
    "and second set of draws 250 black and 250 white draws.\n",
    "\n",
    "In this case, we have $n = 500$ for both bags, $x_1 = 300$ (300 black marble draws) for the first bag and $x_2 = 250$ (250 black marble draws) for the second bag. Replace into the Bayes factor equation, we have:\n",
    "\n",
    "$ \\dfrac{p(x|M_1)}{p(x|M_2)} = \\dfrac{B(300+250+1,2 \\times 500 - 300-250+1) }{ B(300+1,500-300+1) B(250+1, 500-250+1) } = \\dfrac{B(551, 451) }{ B(301, 201) B(251, 251)} $\n",
    "\n",
    "=> $ \\dfrac{p(x|M_1)}{p(x|M_2)} = \\dfrac{550!450!}{1001!} \\dfrac{501!}{300!200!} \\dfrac{501!}{250!250!} \\approx 0.0815$\n",
    "\n",
    "This time, with a much larger draws and the proprotion of draws are different between the two bags, the Bayes' factor is 0.0815, suggesting that Model 2 is 12 times more likely than Model 1, that is the proportions of marbles are different in the two bags."
   ]
  },
  {
   "cell_type": "markdown",
   "metadata": {
    "deletable": false,
    "editable": false,
    "nbgrader": {
     "cell_type": "markdown",
     "checksum": "68d31bb0c21986261cfa0587f77cd0ee",
     "grade": false,
     "grade_id": "cell-675a401a5f2fa552",
     "locked": true,
     "points": 2,
     "schema_version": 3,
     "solution": false,
     "task": true
    }
   },
   "source": [
    "# Problem 4: Model selection for GMM with BIC and cross validation\n",
    "\n",
    "In many machine learning applications model selection is crucial. In this exercise, you\n",
    "will practice two common approaches for model selection: \n",
    "\n",
    "- Bayesian Information Criterion (BIC) (as an approximation to ‘Bayesian model selection’) and  \n",
    "\n",
    "- Cross-Validation (as a representative for a predictive model selection criterion).\n",
    "\n",
    "You are given a data set (1000 samples of dimension 2) contained in the file data.pickle, which has been sampled from a Gaussian Mixture Model (GMM) using three classes(the true class labels are given for your convenience, but they should not be used in learning the model).\n",
    "\n",
    "In the given code template below, the data will be divided into training and test sets.\n",
    "\n",
    "**(a)** Complete the functions 'compute_bic' and 'cross_validate'. Use both criteria to select the number of components in the GMM using the training data. Plot the both the BIC and the validation log-likelihoods as a function of the number of components, as well as the data with the best model. Do both methods find a model with three components as the most likely?\n",
    "\n",
    "**(b)** Use the selected models to evaluate the test set log-likelihood.\n",
    "\n",
    "**(c)** Explain briefly the pros and cons of the two approaches and comment which approach you would consider better and why.\n",
    "\n",
    "**Hint**: What is the total number of parameters needed to specify the component\n",
    "means and covariance matrices, and the mixture weights? You will need this\n",
    "number to compute BIC."
   ]
  },
  {
   "cell_type": "markdown",
   "metadata": {},
   "source": [
    "part **(a)** and **(b)**"
   ]
  },
  {
   "cell_type": "code",
   "execution_count": 8,
   "metadata": {},
   "outputs": [],
   "source": [
    "# This Starter code for problem 4. The solution template is in the cell below.\n",
    "# Tools for learning Gaussian mixture models; adapted from the BRMLtoolkit by David Barber.\n",
    "import numpy as np\n",
    "import numpy.matlib as matlib\n",
    "import numpy.linalg as LA\n",
    "#import scipy.misc\n",
    "from scipy.special import logsumexp\n",
    "\n",
    "def condp(X):\n",
    "    return X / np.sum(X, axis=0)\n",
    "\n",
    "def condexp(logp):\n",
    "    pmax = np.max(logp, axis=0)\n",
    "    P = logp.shape[0]\n",
    "    return condp(np.exp(logp - np.tile(pmax, (P, 1))))\n",
    "\n",
    "def GMMlogp(X, H, P, m, S):\n",
    "    D, N = X.shape  # dimension and number of points\n",
    "\n",
    "    logp = np.zeros((N, H))\n",
    "    for i in range(H):\n",
    "        invSi = LA.inv(S[i,:,:])\n",
    "        sign, logdetSi = LA.slogdet(2 * np.pi * S[i,:,:])\n",
    "\n",
    "        for n in range(N):\n",
    "            v = X[:,n] - m[:,i]\n",
    "            logp[n,i] = -0.5 * (v @ invSi @ v) - 0.5 * logdetSi + np.log(P[i])\n",
    "\n",
    "    return logp\n",
    "\n",
    "\n",
    "\n",
    "# Log Likelihood of data X under a Gaussian Mixture Model\n",
    "#\n",
    "# X : each column of X is a datapoint.\n",
    "# P : mixture coefficients\n",
    "# m : means\n",
    "# S : covariances\n",
    "#\n",
    "# Returns: A list containing the log likelihood for each data point in X\n",
    "def GMMloglik(X, P, m, S):\n",
    "    N = X.shape[1]\n",
    "    H = m.shape[1]\n",
    "\n",
    "    logp = GMMlogp(X, H, P, m, S)\n",
    "    logl = [logsumexp(a=logp[n,:], b=np.ones(H)) for n in range(N)]\n",
    "\n",
    "    return logl\n",
    "\n",
    "# Fit a mixture of Gaussian to the data X using EM\n",
    "#\n",
    "# X : each column of X is a datapoint.\n",
    "# H : number of components of the mixture.\n",
    "# n_iter : number of EM iterations\n",
    "#\n",
    "# Returns: (P, m, S, loglik, phgn)\n",
    "# P : learned mixture coefficients\n",
    "# m : learned means\n",
    "# S : learned covariances\n",
    "# loglik : log likelihood of the learned model\n",
    "# phgn : mixture assignment probabilities\n",
    "def GMMem(X, H, n_iter):\n",
    "    D, N = X.shape  # dimension and number of points\n",
    "\n",
    "    # initialise the centres to random datapoints\n",
    "    r = np.random.permutation(N)\n",
    "    m = X[:, r[:H]]\n",
    "\n",
    "    # initialise the variances to be large\n",
    "    s2 = np.mean(np.diag(np.cov(X)))\n",
    "    S = matlib.tile(s2 * np.eye(D), [H, 1, 1])\n",
    "\n",
    "    # intialise the component probilities to be uniform\n",
    "    P = np.ones(H) / H\n",
    "\n",
    "    for emloop in range(n_iter):\n",
    "        # E-step:\n",
    "        logpold = GMMlogp(X, H, P, m, S)\n",
    "\n",
    "        phgn = condexp(logpold.T)  # responsibilities\n",
    "        pngh = condp(phgn.T)       # membership\n",
    "\n",
    "        # M-step:\n",
    "        for i in range(H):   # now get the new parameters for each component\n",
    "            tmp = (X - np.tile(m[:,i:i+1], N)) * np.tile(np.sqrt(pngh[:,i]), (D,1))\n",
    "            Scand = np.dot(tmp, tmp.T)\n",
    "\n",
    "            if LA.det(Scand) > 0.0001:   # don't accept too low determinant\n",
    "                S[i,:,:] = Scand\n",
    "\n",
    "        m = np.dot(X, pngh)\n",
    "        P = np.sum(phgn, axis=1) / N\n",
    "\n",
    "    logl = np.sum(logsumexp(a=logpold[n,:], b=np.ones(H)) for n in range(N))\n",
    "\n",
    "    return P, m, S, logl, phgn"
   ]
  },
  {
   "cell_type": "code",
   "execution_count": 29,
   "metadata": {
    "deletable": false,
    "nbgrader": {
     "cell_type": "code",
     "checksum": "1349a1524033d0a1cc56845a976af105",
     "grade": false,
     "grade_id": "cell-339a70e9272824f5",
     "locked": false,
     "schema_version": 3,
     "solution": true,
     "task": false
    },
    "scrolled": false
   },
   "outputs": [
    {
     "data": {
      "image/png": "[encoded data removed]",
      "text/plain": [
       "<Figure size 432x288 with 1 Axes>"
      ]
     },
     "metadata": {
      "needs_background": "light"
     },
     "output_type": "display_data"
    },
    {
     "name": "stdout",
     "output_type": "stream",
     "text": [
      "computing cross validation score\n",
      "H: 1\n"
     ]
    },
    {
     "name": "stderr",
     "output_type": "stream",
     "text": [
      "/tmp/ipykernel_140/479152007.py:94: DeprecationWarning: Calling np.sum(generator) is deprecated, and in the future will give a different result. Use np.sum(np.fromiter(generator)) or the python sum builtin instead.\n",
      "  logl = np.sum(logsumexp(a=logpold[n,:], b=np.ones(H)) for n in range(N))\n"
     ]
    },
    {
     "name": "stdout",
     "output_type": "stream",
     "text": [
      "H: 2\n",
      "H: 3\n",
      "H: 4\n",
      "H: 5\n",
      "The weights of BIC for corresponding H = [1;2;3;4;5] is [-469.51125982 -357.09590582 -338.04736139 -339.17130628 -340.02560895]\n"
     ]
    },
    {
     "data": {
      "image/png": "[encoded data removed]",
      "text/plain": [
       "<Figure size 432x288 with 1 Axes>"
      ]
     },
     "metadata": {
      "needs_background": "light"
     },
     "output_type": "display_data"
    },
    {
     "name": "stdout",
     "output_type": "stream",
     "text": [
      "Test Data Likelihood = -529.653042\n"
     ]
    },
    {
     "data": {
      "image/png": "[encoded data removed]",
      "text/plain": [
       "<Figure size 432x288 with 1 Axes>"
      ]
     },
     "metadata": {
      "needs_background": "light"
     },
     "output_type": "display_data"
    },
    {
     "data": {
      "image/png": "[encoded data removed]",
      "text/plain": [
       "<Figure size 432x288 with 1 Axes>"
      ]
     },
     "metadata": {
      "needs_background": "light"
     },
     "output_type": "display_data"
    },
    {
     "name": "stdout",
     "output_type": "stream",
     "text": [
      "computing BIC\n",
      "H: 1\n"
     ]
    },
    {
     "name": "stderr",
     "output_type": "stream",
     "text": [
      "/tmp/ipykernel_140/479152007.py:94: DeprecationWarning: Calling np.sum(generator) is deprecated, and in the future will give a different result. Use np.sum(np.fromiter(generator)) or the python sum builtin instead.\n",
      "  logl = np.sum(logsumexp(a=logpold[n,:], b=np.ones(H)) for n in range(N))\n"
     ]
    },
    {
     "name": "stdout",
     "output_type": "stream",
     "text": [
      "The number of parameters for BIC, H = 1: k = 5.0\n",
      "H: 2\n",
      "The number of parameters for BIC, H = 2: k = 11.0\n",
      "H: 3\n",
      "The number of parameters for BIC, H = 3: k = 17.0\n",
      "H: 4\n",
      "The number of parameters for BIC, H = 4: k = 23.0\n",
      "H: 5\n",
      "The number of parameters for BIC, H = 5: k = 29.0\n"
     ]
    },
    {
     "data": {
      "image/png": "[encoded data removed]",
      "text/plain": [
       "<Figure size 432x288 with 1 Axes>"
      ]
     },
     "metadata": {
      "needs_background": "light"
     },
     "output_type": "display_data"
    },
    {
     "name": "stdout",
     "output_type": "stream",
     "text": [
      "Test Data Likelihood = -804.300366\n"
     ]
    },
    {
     "data": {
      "image/png": "[encoded data removed]",
      "text/plain": [
       "<Figure size 432x288 with 1 Axes>"
      ]
     },
     "metadata": {
      "needs_background": "light"
     },
     "output_type": "display_data"
    }
   ],
   "source": [
    "# Template for problem 4\n",
    "import matplotlib.pyplot as plt\n",
    "import pickle\n",
    "\n",
    "np.random.seed(0)\n",
    "totalComponents = 5  # max number of mixture components\n",
    "#criterion_flag = [0, 1]    # 0: cross validation, 1: BIC\n",
    "for criterion_flag in [0, 1]:\n",
    "    def compute_bic(Xtrain):\n",
    "        BICs = []\n",
    "        for H in range(1, totalComponents+1):    # number of mixture components\n",
    "            print(\"H: {}\".format(H))\n",
    "\n",
    "            P, m, S, loglik, phgn = GMMem(Xtrain, H, 100)  # fit to data\n",
    "\n",
    "            # numParams = ?     # number of parameters in the model\n",
    "            # BIC = ?           # BIC for the model\n",
    "\n",
    "            # https://en.wikipedia.org/wiki/Bayesian_information_criterion\n",
    "            # https://stats.stackexchange.com/questions/229293/the-number-of-parameters-in-gaussian-mixture-model\n",
    "            # BIC = k*ln(n) - 2ln(L)\n",
    "            # where ln(L) is the maximum log likelihood\n",
    "            # n is the number of datapoints in x\n",
    "            # p is the number of features in x\n",
    "            # k is the number of parameters estimated by the model\n",
    "            D, N = Xtrain.shape\n",
    "            df = (D * D - D)/2 + 2 * D + 1 # degree of freedom\n",
    "            k = H * df - 1\n",
    "            BIC = k*np.log(N) - 2*loglik\n",
    "            print(f\"The number of parameters for BIC, H = {H}: k = {k}\")\n",
    "\n",
    "            # YOUR CODE HERE\n",
    "            #raise NotImplementedError()\n",
    "\n",
    "            BICs.append(BIC)\n",
    "        return BICs\n",
    "\n",
    "    def cross_validate(Xtrain):\n",
    "        foldCount = 5    # number of folds\n",
    "\n",
    "        loglik = np.zeros((totalComponents, foldCount))\n",
    "\n",
    "        Nlearning = Xtrain.shape[1]\n",
    "        order = np.random.permutation(Nlearning)    # to randomize the sample order\n",
    "\n",
    "        for H in range(1, totalComponents+1):     # number of mixture components\n",
    "            print(\"H: {}\".format(H))\n",
    "\n",
    "            for fold in range(foldCount):    # K-fold cross validation (K=5)\n",
    "                ind = fold * int(Nlearning/foldCount) + np.arange(int(Nlearning/foldCount))\n",
    "                val_indices = order[ind]\n",
    "\n",
    "                training_indices = np.setdiff1d(np.arange(Nlearning), val_indices);\n",
    "\n",
    "                X_train = Xtrain[:,training_indices]  # cv training data\n",
    "                X_val   = Xtrain[:,val_indices]       # cv validation data\n",
    "\n",
    "                # train model\n",
    "                P1, m1, S1, loglik1, phgn1 = GMMem(X_train, H, 100)   # fit model\n",
    "\n",
    "                # Predict using the cv trained model\n",
    "                # logl1 = ?\n",
    "                # loglik[H-1,fold] = ?\n",
    "                loglikelihood = GMMloglik(X_val, P1, m1, S1)\n",
    "                loglik[H-1,fold] = np.sum(loglikelihood)\n",
    "                # YOUR CODE HERE\n",
    "                #raise NotImplementedError()\n",
    "        return loglik\n",
    "\n",
    "\n",
    "    # load data\n",
    "    with open(\"/coursedata/data.pickle\", \"rb\") as f:\n",
    "        X, labels = pickle.load(f)\n",
    "\n",
    "    D, N = X.shape   # dimension and number of data points\n",
    "\n",
    "    ratio = 0.75\n",
    "    train_ind = np.random.choice(N, int(ratio * N), replace=False)   # training data index\n",
    "    test_ind = np.setdiff1d(np.arange(N), train_ind)                 # test data index\n",
    "\n",
    "    Xtrain = X[:,train_ind]            # training data\n",
    "    Xtrain_labels = labels[train_ind]  # training data labels\n",
    "\n",
    "    Xtest = X[:,test_ind]            # test data\n",
    "    Xtest_labels = labels[test_ind]  # test data labels\n",
    "\n",
    "    # plot training and test data\n",
    "    def plot_data():\n",
    "        for i in sorted(set(Xtrain_labels)):\n",
    "            X_comp = Xtrain[:, Xtrain_labels == i]\n",
    "            plt.plot(X_comp[0], X_comp[1], '.' + 'brgmcyk'[i-1], markersize=6)\n",
    "\n",
    "        plt.plot(Xtest[0], Xtest[1], 'kd', markersize=4, markeredgewidth=0.5, markerfacecolor=\"None\")\n",
    "\n",
    "    plot_data()\n",
    "    plt.title('training data, test data (in black)')\n",
    "    plt.show()\n",
    "\n",
    "\n",
    "\n",
    "    # ***** Use BIC to select the number of components\n",
    "    # (Only this part differs from the second template, where cross validation is used instead)\n",
    "\n",
    "    if criterion_flag:\n",
    "        print('computing BIC')\n",
    "        scores = compute_bic(Xtrain)\n",
    "        ylabel = \"(BIC)\"\n",
    "    elif not criterion_flag:\n",
    "        print('computing cross validation score')\n",
    "        scores = cross_validate(Xtrain)\n",
    "        ylabel = \"(Cross Validation)\"\n",
    "\n",
    "    # plot the BIC curve\n",
    "    if criterion_flag:\n",
    "        scores = np.array(scores).reshape(-1, 1)\n",
    "    plt.bar(np.arange(1, totalComponents+1), np.mean(scores, axis=1))\n",
    "    if not criterion_flag:\n",
    "        print(f\"The weights of BIC for corresponding H = [1;2;3;4;5] is {np.mean(scores, axis=1)}\")\n",
    "    #plt.yscale(\"log\", nonposy=\"clip\")\n",
    "    plt.xlabel('Number of Mixture Components')\n",
    "    plt.ylabel(ylabel)\n",
    "    plt.title('Model Selection' + ylabel )\n",
    "    plt.show()\n",
    "\n",
    "    # select the number of mixture components which minimizes the BIC\n",
    "    h = np.argmax(np.mean(scores, axis=1)) + 1\n",
    "\n",
    "\n",
    "\n",
    "    # ***** TRAIN\n",
    "\n",
    "    # Now train full model with selected number of mixture components\n",
    "    P, m, S, loglik, phgn = GMMem(Xtrain, h, 100)  # fit to data\n",
    "\n",
    "    # Predict using the full trained model (Use GMMem.GMMloglik)\n",
    "    # logl = ?\n",
    "    # print('Test Data Likelihood = {0:f}'.format(?))\n",
    "\n",
    "    loglikelihood = GMMloglik(Xtest, P, m, S)\n",
    "    print('Test Data Likelihood = {0:f}'.format(np.sum(loglikelihood)))\n",
    "\n",
    "    # YOUR CODE HERE\n",
    "    #raise NotImplementedError()\n",
    "\n",
    "    # Plot the best GMM model\n",
    "    plot_data()\n",
    "\n",
    "    for i in range(h):\n",
    "        dV, E = LA.eig(S[i,:,:])\n",
    "\n",
    "        theta = np.arange(0, 2*np.pi, 0.1)\n",
    "        p = np.sqrt(dV.reshape(D,1)) * [np.cos(theta), np.sin(theta)]\n",
    "        x = (E @ p) + np.tile(m[:,i:i+1], (1, len(theta)))\n",
    "\n",
    "        plt.plot(x[0], x[1], 'r-', linewidth=2)\n",
    "\n",
    "    plt.title('training data, test data (in black)')\n",
    "    plt.show()"
   ]
  },
  {
   "cell_type": "markdown",
   "metadata": {},
   "source": [
    "**(c)** Explain briefly the pros and cons of the two approaches and comment which approach you would consider better and why.\n",
    "\n",
    "**Hint**: What is the total number of parameters needed to specify the component\n",
    "means and covariance matrices, and the mixture weights? You will need this\n",
    "number to compute BIC."
   ]
  },
  {
   "cell_type": "markdown",
   "metadata": {},
   "source": [
    "From the two figures, the approach that I would consider better is the cross validation (CV) method. This can be verified visually, as the data seems to be distributed in three normal distributions. \n",
    "\n",
    "The reason is that BIC penalizes the model if the number of paramaters increase. This can be see from the printed message above, so BIC would prefer to have the the most simple model possible. Therefore, CV seems to perform better than BIC because CV does not consider the model complexity"
   ]
  }
 ],
 "metadata": {
  "kernelspec": {
   "display_name": "Python 3",
   "language": "python",
   "name": "python3"
  },
  "language_info": {
   "codemirror_mode": {
    "name": "ipython",
    "version": 3
   },
   "file_extension": ".py",
   "mimetype": "text/x-python",
   "name": "python",
   "nbconvert_exporter": "python",
   "pygments_lexer": "ipython3",
   "version": "3.9.5"
  },
  "varInspector": {
   "cols": {
    "lenName": 16,
    "lenType": 16,
    "lenVar": 40
   },
   "kernels_config": {
    "python": {
     "delete_cmd_postfix": "",
     "delete_cmd_prefix": "del ",
     "library": "var_list.py",
     "varRefreshCmd": "print(var_dic_list())"
    },
    "r": {
     "delete_cmd_postfix": ") ",
     "delete_cmd_prefix": "rm(",
     "library": "var_list.r",
     "varRefreshCmd": "cat(var_dic_list()) "
    }
   },
   "types_to_exclude": [
    "module",
    "function",
    "builtin_function_or_method",
    "instance",
    "_Feature"
   ],
   "window_display": false
  }
 },
 "nbformat": 4,
 "nbformat_minor": 4
}
