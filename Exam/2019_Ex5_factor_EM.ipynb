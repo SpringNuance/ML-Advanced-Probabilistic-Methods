{
 "cells": [
  {
   "attachments": {},
   "cell_type": "markdown",
   "metadata": {},
   "source": [
    "(Q5) EM algorithm\n",
    "\n",
    "Consider a simple factor analysis model:\n",
    "\n",
    "$$ x_n \\sim N_2(\\mathbf{w} z_n; \\sigma^2 I), n = 1,...,N $$\n",
    "$$ z_n \\sim N(0, 1), n = 1,...,N $$\n",
    "where $x_n \\in R^2$ and $z_n \\in R$ for all $n = 1,...,N$. Parameters of the model are the loading matrix (a vector in this case), $\\mathbf{w} \\in R^2$, and variance $\\sigma^2 \\in R$.\n",
    "\n",
    "(A) Derive and simplify the complete data log-likelihood. (2p)"
   ]
  },
  {
   "attachments": {},
   "cell_type": "markdown",
   "metadata": {},
   "source": [
    "In a factor analysis model, the complete data consists of both the observed data xn​ and the latent variables zn​. The complete data log-likelihood is the logarithm of the joint probability distribution of the observed data and the latent variables.\n",
    "For the given factor analysis model, the joint probability distribution of the observed data xn​ and the latent variables zn​ is given by:\n",
    "p(x,z∣w,σ2)=∏n=1N​p(xn​∣zn​,w,σ2)p(zn​)\n",
    "where x={xn​}n=1N​ and z={zn​}n=1N​.\n",
    "Substituting the expressions for the conditional distribution p(xn​∣zn​,w,σ2) and the prior distribution p(zn​), we get:\n",
    "p(x,z∣w,σ2)=∏n=1N​N(xn​∣wzn​,σ2I)N(zn​∣0,1)\n",
    "Taking the logarithm of this expression, we get:\n",
    "logp(x,z∣w,σ2)=∑n=1N​logN(xn​∣wzn​,σ2I)+∑n=1N​logN(zn​∣0,1)\n",
    "This is the complete data log-likelihood for the given factor analysis model.\n"
   ]
  },
  {
   "attachments": {},
   "cell_type": "markdown",
   "metadata": {},
   "source": [
    "\n",
    "(B) It can be shown that the posterior distribution $p(z_n|x_n; w_0; \\sigma_0^2)$, where $w_0; \\sigma_0^2$ are current estimates of the parameters, is a Gaussian $\\mathcal{N}(z_n|x_n; \\sigma_z^2)$ with certain $\\mu_n$ and $\\sigma_z^2$. Derive formulas for $\\mu_n$ and $\\sigma_z^2$. (2p)\n",
    "\n"
   ]
  },
  {
   "attachments": {},
   "cell_type": "markdown",
   "metadata": {},
   "source": [
    "(C) Derive the Q function needed in the E step of the EM algorithm. (2p)\n",
    "\n",
    "Hint 1: You can solve C even if you did not solve B, i.e., the solution to C can be given using $\\mu_n$ and $\\sigma_z^2$.\n",
    "\n",
    "Hint 2: Completing the square."
   ]
  }
 ],
 "metadata": {
  "language_info": {
   "name": "python"
  },
  "orig_nbformat": 4
 },
 "nbformat": 4,
 "nbformat_minor": 2
}
