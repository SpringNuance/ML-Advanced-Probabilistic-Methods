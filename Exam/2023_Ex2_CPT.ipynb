{
 "cells": [
  {
   "attachments": {},
   "cell_type": "markdown",
   "metadata": {},
   "source": [
    "(Q2) Bayes rule\n",
    "\n",
    "(A) In this question you must model a problem with 4 binary variables: G ('Gray'), V('Vancouver'), R ('Rain') and S ('sad'). Consider a Bayesian network for these variables with structure and conditional distributions as shown in Figure 2. Write down the expression for $p(S=1|S=1)$ in terms of $\\alpha, \\beta, \\gamma, \\delta$ (4p)\n",
    "\n",
    "(B) The goal in modeling is often to calculate a predictive distribution p(x*|x), where x denotes some observed data and x* correspondingly unobserved future data. Let $\\theta$ represent the parameters of the model and assume a model, i.e., a Bayesian network, as follows: $x^* \\leftarrow \\theta \\rightarrow x$. Derive the formula for $p(x^*|x)$ using the maximum likelihood (ML) approach, and compare it with the Bayesian approach. How is maximum likelihood a special case of the Bayesian approach? (2p)"
   ]
  },
  {
   "cell_type": "markdown",
   "metadata": {},
   "source": []
  },
  {
   "cell_type": "markdown",
   "metadata": {},
   "source": []
  }
 ],
 "metadata": {
  "language_info": {
   "name": "python"
  },
  "orig_nbformat": 4
 },
 "nbformat": 4,
 "nbformat_minor": 2
}
