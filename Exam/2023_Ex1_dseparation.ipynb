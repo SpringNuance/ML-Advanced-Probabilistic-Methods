{
 "cells": [
  {
   "attachments": {},
   "cell_type": "markdown",
   "metadata": {},
   "source": [
    "(Q1) d-separation\n",
    "\n",
    "(A) True or False? Justify your answer, e.g., give an open path, if any, or specify the relevant blocking variables. Give justifications (1.5p per question)\n",
    "\n",
    "1. a and e are d-separated by c in Fig.1\n",
    "2. a and c are d-separated by $\\empty$ in Fig.1\n",
    "3. a and e are d-separated by b in Fig.1\n",
    "\n",
    "(B) Draw a DAG that is different from the DAG in Fig. 1, but Markov equivalent to it. Justfy your answer. (1.5p)"
   ]
  },
  {
   "cell_type": "markdown",
   "metadata": {},
   "source": []
  }
 ],
 "metadata": {
  "language_info": {
   "name": "python"
  },
  "orig_nbformat": 4
 },
 "nbformat": 4,
 "nbformat_minor": 2
}
