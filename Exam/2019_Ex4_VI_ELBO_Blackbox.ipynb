{
 "cells": [
  {
   "attachments": {},
   "cell_type": "markdown",
   "metadata": {},
   "source": [
    "(Q4) Black-box variational inference\n",
    "\n",
    "Assume that N observations $x_n, n = 1,...,N$ have been generated from the model in Fig. 3 with some conditional distributions $p(\\lambda_1), p(\\lambda_2), p(\\lambda_3|\\lambda_2), p(z_n|\\lambda_1), p(x_n|z_n, \\lambda_3)$. Assume that the variational approximation is\n",
    "\n",
    "$q(\\lambda_1, \\lambda_2, \\lambda_3, z_1,..., z_n) = q(\\lambda_1|\\theta_1)q(\\lambda_2|\\theta_2)q(\\lambda_3|\\theta_3) \\prod^N_{n=1} q(z_n|\\eta_n)$,\n",
    "\n",
    "where $\\theta_1, \\theta_2, \\theta_3, \\eta_1,...,\\eta_N$ are variational parameters.\n",
    "\n",
    "(A) Write and simplify the formula to calculate the ELBO for the model in Figure 3. (2p)\n",
    "\n"
   ]
  },
  {
   "attachments": {},
   "cell_type": "markdown",
   "metadata": {},
   "source": [
    "The derivation of the VB algorithm was based on minimizing $KL(q||p)$ in\n",
    "\n",
    "$$\\log p(x) = \\mathcal{L}(q) + KL(q||p)$$\n",
    "\n",
    "When conjugate priors and exponential family distributions are used, we can compute the variational lower bound $\\mathcal{L}(q)$ directly, which is the general formula for the ELBO:\n",
    "\n",
    "$$\\mathcal{L}(q)=\\int q(\\mathbf{Z}) \\log \\dfrac{p(\\mathbf{X}, \\mathbf{Z})}{q(\\mathbf{Z})} d\\mathbf{Z} = E_q[\\log p(\\mathbf{X},\\mathbf{Z})] - E_q[\\log q(\\mathbf{Z})]$$\n",
    "\n",
    "where $\\mathbf{Z}$ is a generic notation that includes all unobservables. On the other hand, $\\mathbf{X}$ is a notation for the observables. \n",
    "\n",
    "In this case, $\\mathbf{X} = \\mathbf{x}$ and $\\mathbf{Z} = \\{\\mathbf{z},\\lambda_1​,\\lambda_2​,\\lambda_3\\}$"
   ]
  },
  {
   "attachments": {},
   "cell_type": "markdown",
   "metadata": {},
   "source": [
    "The joint distribution $p(\\mathbf{x},\\mathbf{z},\\lambda_1​,\\lambda_2​,\\lambda_3​)$ is defined from Figure (3) as:\n",
    "\n",
    "$$ p(\\mathbf{x},\\mathbf{z},\\lambda_1​,\\lambda_2​,\\lambda_3​) =  p(\\lambda_1) p(\\lambda_2) p(\\lambda_3|\\lambda_2) \\prod^N_{n=1} p(z_n|\\lambda_1) p(x_n|z_n, \\lambda_3)$$\n",
    "\n",
    "$$ => \\log p(\\mathbf{x},\\mathbf{z},\\lambda_1​,\\lambda_2​,\\lambda_3​) =  \\log p(\\lambda_1) + \\log p(\\lambda_2) + \\log p(\\lambda_3|\\lambda_2) + \\sum^N_{n=1} \\left[ \\log p(z_n|\\lambda_1) + \\log p(x_n|z_n, \\lambda_3) \\right]$$"
   ]
  },
  {
   "attachments": {},
   "cell_type": "markdown",
   "metadata": {},
   "source": [
    "The joint distribution of the variational approximation $q(\\mathbf{z},\\lambda_1​,\\lambda_2​,\\lambda_3​)$ is defined as:\n",
    "\n",
    "$$ q(\\mathbf{z},\\lambda_1​,\\lambda_2​,\\lambda_3​) = q(\\lambda_1|\\theta_1)q(\\lambda_2|\\theta_2)q(\\lambda_3|\\theta_3) \\prod^N_{n=1} q(z_n|\\eta_n)$$\n",
    "\n",
    "$$ => \\log q(\\mathbf{z},\\lambda_1​,\\lambda_2​,\\lambda_3​) = \\log q(\\lambda_1|\\theta_1) + \\log q(\\lambda_2|\\theta_2) + \\log q(\\lambda_3|\\theta_3) + \\sum^N_{n=1} \\log q(z_n|\\eta_n)$$"
   ]
  },
  {
   "attachments": {},
   "cell_type": "markdown",
   "metadata": {},
   "source": [
    "The ELBO in this exercise is given as:\n",
    "\n",
    "$\\mathcal{L}(q​) = E_q​[\\log p(\\mathbf{x},\\mathbf{z},\\lambda_1​,\\lambda_2​,\\lambda_3​)] − E_q ​[ \\log q(​\\mathbf{z}, \\lambda_1​,\\lambda_2​,\\lambda_3)]$\n",
    "\n",
    "=> $\\mathcal{L}(q​) = E_q​[ \\log p(\\lambda_1) + \\log p(\\lambda_2) + \\log p(\\lambda_3|\\lambda_2) + \\sum^N_{n=1} \\left[ \\log p(z_n|\\lambda_1) + \\log p(x_n|z_n, \\lambda_3) \\right]] − E_q ​[ \\log q(\\lambda_1|\\theta_1) + \\log q(\\lambda_2|\\theta_2) + \\log q(\\lambda_3|\\theta_3) + \\sum^N_{n=1} \\log q(z_n|\\eta_n)]$\n",
    "\n",
    "=> $\\mathcal{L}(q​) = E_{q(\\lambda_1)}​ [\\log p(\\lambda_1)] + E_{q(\\lambda_2)} [\\log p(\\lambda_2)] + E_{q(\\lambda_1)q(\\lambda_2)} [\\log p(\\lambda_3|\\lambda_2)] + \\sum^N_{n=1} \\left( E_{q(\\lambda_1)q(z_n)}[\\log p(z_n|\\lambda_1)] +  E_{q(x_n)q(z_n)q(\\lambda_2)}[\\log p(x_n|z_n, \\lambda_3)] \\right) − E_{q(\\lambda_1)q(\\theta_1)} ​ [\\log q(\\lambda_1|\\theta_1)] - E_{q(\\lambda_2)q(\\theta_2)}[\\log q(\\lambda_2|\\theta_2)] - E_{q(\\lambda_3)q(\\theta_3)}[\\log q(\\lambda_3|\\theta_3)] - \\sum^N_{n=1} E_{q(z_n)q(\\eta_n)}[\\log q(z_n|\\eta_n)]$"
   ]
  },
  {
   "attachments": {},
   "cell_type": "markdown",
   "metadata": {},
   "source": [
    "(C) Using generic notation, the gradient of the ELBO can be written as:\n",
    "\n",
    "$$ \\nabla_\\lambda L = E_{q(z|\\lambda)}[\\nabla_\\lambda \\log q(z|\\lambda) (\\log p(x, z) - \\log q(z|\\lambda))] \\text{ (E.q 1)}$$\n",
    "Write and simplify the following terms in Equation (1): \n",
    "\n",
    "(i) $\\log p(x,z)$, \n",
    "\n",
    "(ii) $\\log q(z|\\lambda)$, \n",
    "\n",
    "$\\nabla_\\lambda \\log q(z|\\lambda)$ for the model specified in Figure 3. (2p)"
   ]
  },
  {
   "cell_type": "markdown",
   "metadata": {},
   "source": []
  }
 ],
 "metadata": {
  "language_info": {
   "name": "python"
  },
  "orig_nbformat": 4
 },
 "nbformat": 4,
 "nbformat_minor": 2
}
