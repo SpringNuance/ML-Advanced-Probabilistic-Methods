{
 "cells": [
  {
   "attachments": {},
   "cell_type": "markdown",
   "metadata": {},
   "source": [
    "(A) Suppose a distribution factorizes according to the graph shown in Fig. 1, and the domains of the variables are as follows: \n",
    "\n",
    "dom(X) = {x1; x2}; \n",
    "\n",
    "dom(Y) = {y1; y2}; \n",
    "\n",
    "dom(Z) = {z1; z2}. \n",
    "\n",
    "In addition, the following conditional probabilities are known: \n",
    "\n",
    "p(x2) = 0.8; \n",
    "\n",
    "p(z1) = p(z2) = 0.5; \n",
    "\n",
    "p(y2|x2; z1) = 0.9; \n",
    "\n",
    "p(y2|x2; z2) = 0.2 \n",
    "\n",
    "Compute p(z2|y2,x2). (3p)"
   ]
  },
  {
   "attachments": {},
   "cell_type": "markdown",
   "metadata": {},
   "source": [
    "Based on the information provided, we can use Bayes’ rule to compute $p(z_2|y_2; x_2)$.\n",
    "\n",
    "$p(z_2|y_2,x_2) = \\dfrac{p(x_2, y_2|z_2)p(z_2)}{p(x_2, y_2)} = \\dfrac{p(y_2|x_2, z_2)p(x_2)p(z_2)}{p(x_2|y_2)p(x_2)} = \\dfrac{p(y_2|x_2, z_2)p(z_2)}{p(x_2|y_2)}$\n",
    "\n",
    "We know that $p(z_1) = p(z_2) = 0.5$ and $p(y_2|x_2, z_2) = 0.2$\n",
    "\n",
    "We can also compute p(y2|x2) using the law of total probability: \n",
    "\n",
    "$p(y_2|x_2) = p(y_2|x_2, z_1)p(z_1) + p(y_2|x_2,z_2)p(z_2) = 0.9 * 0.5 + 0.2 * 0.5 = 0.55$\n",
    "\n",
    "Plugging in the values:\n",
    "\n",
    "$p(z_2|y_2,x_2) = \\dfrac{0.2 * 0.5}{0.55} = 0.1818$"
   ]
  }
 ],
 "metadata": {
  "language_info": {
   "name": "python"
  },
  "orig_nbformat": 4
 },
 "nbformat": 4,
 "nbformat_minor": 2
}
