{
 "cells": [
  {
   "attachments": {},
   "cell_type": "markdown",
   "metadata": {},
   "source": [
    "Univariate Gaussian: $\\mathcal{N}(x|\\mu, \\sigma^2) = \\dfrac{1}{\\sigma \\sqrt{2 \\pi}} \\exp\\left(-\\dfrac{1}{2} \\dfrac{(x-\\mu)^2}{\\sigma^2} \\right) = (2 \\pi \\sigma^2)^{-1/2} \\exp\\left(-\\dfrac{1}{2} (x-\\mu)^2 (\\sigma^2)^{-1} \\right)$\n",
    "\n",
    "Multivariate Gaussian: $\\mathcal{N}_k(x|\\mu, \\Sigma) = (2 \\pi)^{-k/2} |\\Sigma|^{-1/2} \\exp\\left(-\\dfrac{1}{2} (x-\\mu)^T \\Sigma^{-1} (x-\\mu) \\right)$\n",
    "\n",
    "Multivariate Gaussian with diagonal covariance:\n",
    "$\\mathcal{N}_k(x|\\mu, \\sigma^2 \\mathbf{I}) = (2 \\pi \\sigma^2)^{-k/2} \\exp\\left(-\\dfrac{1}{2} (x-\\mu)^T \\sigma^{-2} (x-\\mu) \\right)$\n",
    "\n",
    "$\\text{Bernoulli}(k|p) = p^k (1-p)^{1-k}, k \\in \\{0,1\\}, p \\in [0,1]$ (Note: $p$ is the probability of success)\n",
    "\n",
    "$\\text{Beta}(x|a,b) = \\dfrac{x^{a-1} (1-x)^{b-1}}{B(a,b)} = \\dfrac{\\Gamma(a+b)}{\\Gamma(a)\\Gamma(b)} x^{a-1} (1-x)^{b-1}, x \\in [0,1], a,b > 0$\n",
    "\n",
    "$\\text{Gamma}(x|a,b)= \\dfrac{b^a}{\\Gamma(a)} x^{a-1} \\exp(-bx), a > 0, b>0, x >0$\n",
    "\n",
    "$\\text{Exp}(x|\\lambda)=\\lambda \\exp(-\\lambda x), x \\in [0, \\infty), \\lambda > 0$\n",
    "\n",
    "$\\text{Poisson}(x|\\lambda) = \\dfrac{\\lambda^x}{x!} \\exp(-\\lambda), x \\in \\mathbb{N}, \\lambda > 0$\n",
    "\n",
    "$\\text{Uniform}(x|a,b) = \\dfrac{1}{b-a}, x \\in [a,b], a < b, 0 \\text{ otherwise}$\n"
   ]
  }
 ],
 "metadata": {
  "language_info": {
   "name": "python"
  },
  "orig_nbformat": 4
 },
 "nbformat": 4,
 "nbformat_minor": 2
}
