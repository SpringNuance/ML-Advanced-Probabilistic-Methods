{
 "cells": [
  {
   "attachments": {},
   "cell_type": "markdown",
   "metadata": {},
   "source": [
    "(Q3) Variational Bayes\n",
    "\n",
    "Suppose our data $x = (x_1,...,x_N)$ consist of N observations drawn independently from the normal distribution\n",
    "\n",
    "$$x_i \\sim \\mathbf{N}(\\mu, \\tau^{-1}), \\text{for } i = 1,...,N$$\n",
    "\n",
    "We assume the following prior on the parameters\n",
    "\n",
    "$$p(\\mu) = \\mathbf{N}(\\mu|\\mu_0, \\lambda_0^{-1})$$\n",
    "\n",
    "$$p(\\tau) = \\text{Gamma}(\\tau|a_0, b_0)$$\n",
    "\n",
    "Derive the variational update for factor $q(\\tau)$, when we assume that the posterior distribution \n",
    "$p(\\mu, \\tau|\\mathbf{x})$ is approximated using a factorized distribution $q(\\mu, \\tau) = q(\\mu)q(\\tau)$. You can assume that the current factor for $\\mu$ is\n",
    "\n",
    "$$q(\\mu) = N(\\mu|\\mu_*; \\sigma_*^2)$$\n",
    "\n",
    "(6p)\n",
    "\n",
    "Hint 1: $Var(X) = E(X^2)-E(X)^2$\n",
    "\n",
    "Hint 2: The Gamma prior is conjugate here"
   ]
  },
  {
   "attachments": {},
   "cell_type": "markdown",
   "metadata": {},
   "source": [
    "Step 1: Write down the log of the joint distribution of all the variables in the model:\n",
    "\n",
    "$$\\log p(\\mathbf{x}, \\mu, \\tau) = \\sum_{i=1}^N \\left[\\log p(x_i|\\mu, \\tau)\\right] + \\log p(\\mu) + \\log p(\\tau) .$$\n",
    "\n",
    "$$\\log p(\\mathbf{x}, \\mu, \\tau) = \\sum_{i=1}^N \\left[\\log  \\mathcal{N}(x_i|\\mu, \\tau^{-1}) \\right] + \\log \\mathcal{N}(\\mu|\\mu_0, \\lambda_0^{-1}) + \\log  \\text{Gamma}(\\tau|a_0, b_0).$$\n",
    "\n",
    "We have\n",
    "\n",
    "$\\log  \\mathcal{N}(x_i|\\mu, \\tau^{-1}) = \\log \\left[ (2 \\pi \\tau^{-1}) ^ {-1/2} \\exp(- \\dfrac{1}{2} (x_i - \\mu)^2 (\\tau^{-1})^{-1}) \\right] \\\\ \n",
    "= \\log \\left[ (2 \\pi) ^ {-1/2} \\tau^{1/2} \\exp(-\\dfrac{1}{2} \\tau (x_i - \\mu)^2) \\right] \\\\\n",
    "= -\\dfrac{1}{2} \\log(2 \\pi) + \\dfrac{1}{2} \\log \\tau - \\dfrac{1}{2} \\tau (x_i - \\mu)^2$\n",
    "\n",
    "$\\log \\mathcal{N}(\\mu|\\mu_0, \\lambda_0^{-1}) = \\log \\left[ (2 \\pi \\lambda_0^{-1}) ^ {-1/2} \\exp(-\\dfrac{1}{2} (\\mu - \\mu_0)^2 (\\lambda_0^{-1})^{-1}) \\right] \\\\ \n",
    "= \\log \\left[ (2 \\pi) ^ {-1/2} \\lambda_0^{1/2} \\exp(-\\dfrac{1}{2} \\lambda_0 (\\mu - \\mu_0)^2) \\right] \\\\\n",
    "= -\\dfrac{1}{2} \\log(2 \\pi) + \\dfrac{1}{2} \\log \\lambda_0 - \\dfrac{1}{2} \\lambda_0 (\\mu - \\mu_0)^2$\n",
    "\n",
    "$\\log \\text{Gamma}(\\tau|a_0, b_0) = \\log \\left[ \\dfrac{{b_0}^{a_0}}{\\Gamma(a_0)} \\tau^{a_0 - 1} \\exp(-b_0 \\tau)\\right]$ = $a_0 \\log b_0 - \\log \\Gamma(a_0) + (a_0 - 1) \\log \\tau - b_0 \\tau$"
   ]
  },
  {
   "attachments": {},
   "cell_type": "markdown",
   "metadata": {},
   "source": [
    "Step 2: Substitute the expressions for the joint distribution:\n",
    "\n",
    " \n",
    "$$\\log p(\\mathbf{x}, \\mu, \\tau) = \\sum^N_{i=1} [-\\dfrac{1}{2} \\log(2 \\pi) + \\dfrac{1}{2} \\log \\tau - \\dfrac{1}{2} \\tau (x_i - \\mu)^2] -\\frac{1}{2} \\log (2\\pi) + \\frac{1}{2} \\log \\lambda_0 \\\\ - \\frac{1}{2} \\lambda_0 (\\mu - \\mu_0)^2 + a_0 \\log b_0 - \\log \\Gamma(a_0) + (a_0 - 1) \\log \\tau - b_0 \\tau$$\n",
    "\n",
    "$$=> \\log p(\\mathbf{x}, \\mu, \\tau) = -\\frac{N}{2} \\log (2\\pi) + \\frac{N}{2} \\log \\tau - \\frac{\\tau}{2} \\sum_{i=1}^N (x_i - \\mu)^2 -\\frac{1}{2} \\log (2\\pi) + \\frac{1}{2} \\log \\lambda_0 \\\\ - \\frac{1}{2} \\lambda_0 (\\mu - \\mu_0)^2 + a_0 \\log b_0 - \\log \\Gamma(a_0) + (a_0 - 1) \\log \\tau - b_0 \\tau$$"
   ]
  },
  {
   "attachments": {},
   "cell_type": "markdown",
   "metadata": {},
   "source": [
    "Step 3: Take the expectation of this expression with respect to $q(\\mu)$:\n",
    "\n",
    "$$\\mathbb{E}_{q(\\mu)}[\\log p(\\mathbf{x}, \\mu, \\tau)] = -\\frac{N}{2} \\log (2\\pi) + \\frac{N}{2} \\log \\tau -\\frac{\\tau}{2} \n",
    "\\left(\\sum_{i=1}^N x_i^2 - 2 \\mathbb{E}_{q(\\mu)}[\\mu] \\sum_{i=1}^N x_i + N\\mathbb{E}_{q(\\mu)}[\\mu^2]\\right) \n",
    "\\\\ -\\frac{1}{2} \\log (2\\pi) + \\frac{1}{2} \\log \\lambda_0 -\\frac{1}{2} \\lambda_0 (\\mathbb{E}_{q(\\mu)}[\\mu^2] - 2\\mu_0\\mathbb{E}_{q(\\mu)}[\\mu] +\\mu_0^2) + a_0 \\log b_0 - \\log \\Gamma(a_0) + (a_0 - 1) \\log \\tau - b_0 \\tau$$\n"
   ]
  },
  {
   "attachments": {},
   "cell_type": "markdown",
   "metadata": {},
   "source": [
    "Step 4: Identify the terms that do not depend on $\\tau$ and add them to the constant C:\n",
    "\n",
    "$$\\mathbb{E}_{q(\\mu)}[\\log p(\\mathbf{x}, \\mu, \\tau)] = \\frac{N}{2} \\log \\tau -\\frac{\\tau}{2} (\\sum_{i=1}^N x_i^2 - 2\\mathbb{E}_{q(\\mu)}[\\mu] \\sum^N_{i=1}x_i + N\\mathbb{E}_{q(\\mu)}[\\mu^2]) + (a_0 - 1) \\log \\tau - b_0 \\tau + C$$\n",
    "\n",
    "According to Hint 1: $Var(X) = E(X^2)-E(X)^2$ => $\\mathbb{E}_{q(\\mu)}[\\mu^2] = \\mathbb{E}_{q(\\mu)}[\\mu]^2 + Var(\\mu) = \\mu_*^2 + \\sigma_*^2$\n",
    "\n",
    "Additionally, $\\mathbb{E}_{q(\\mu)}[\\mu] = \\mu_*$ by definition\n",
    "\n",
    "$$\\mathbb{E}_{q(\\mu)}[\\log p(\\mathbf{x}, \\mu, \\tau)] =  \\left(\\frac{N}{2} + a_0 - 1 \\right) \\log \\tau − \\tau \\left(b_0 +\\frac{1}{2} \\left(\\sum_{i=1}^N x_i^2 − 2 \\mu_* \\sum_{i=1}^N x_i + N(\\mu_*^2 + \\sigma_*^2) \\right) \\right) + C$$\n",
    "\n",
    "Use these terms to derive an update for $\\log q^*(\\tau)$:\n",
    "\n",
    "$$\\log q^*(\\tau) \\propto \\left(\\frac{N}{2}+a_0−1 \\right)\\log \\tau− \\tau \\left(b_0 +\\frac{1}{2} \\left(\\sum_{i=1}^N x_i^2 − 2 \\mu_* \\sum_{i=1}^N x_i + N(\\mu_*^2 + \\sigma_*^2) \\right) \\right)$$\n",
    "\n",
    "$$ => q^*(\\tau) \\propto \\exp \\left( \\left(\\frac{N}{2}+a_0−1 \\right)\\log \\tau− \\tau \\left(b_0 +\\frac{1}{2} \\left(\\sum_{i=1}^N x_i^2 − 2 \\mu_* \\sum_{i=1}^N x_i + N(\\mu_*^2 + \\sigma_*^2) \\right) \\right) \\right)$$\n",
    "\n",
    "Let the terms defined as:\n",
    "\n",
    "$$a_N = a_0+\\frac{N}{2}$$\n",
    "\n",
    "and\n",
    "\n",
    "$$b_N = b_0 +\\frac{1}{2} \\left(\\sum_{i=1}^N x_i^2 − 2 \\mu_* \\sum_{i=1}^N x_i + N(\\mu_*^2 + \\sigma_*^2) \\right)$$\n",
    "\n",
    "=> $q^*(\\tau) \\propto \\exp \\left((a_N - 1) \\log \\tau - b_N \\tau \\right) = \n",
    "\\exp \\left(\\log[\\tau^{(a_N - 1)} \\exp(- b_N \\tau) \\right]) = \\tau^{a_N - 1} \\exp(-b_N \\tau) $"
   ]
  },
  {
   "attachments": {},
   "cell_type": "markdown",
   "metadata": {},
   "source": [
    "Recognize that this resembles Gamma distribution:\n",
    "$$q^*(\\tau) \\propto \\text{Gamma}(\\tau|a_N,b_N) = \\dfrac{{b_N}^{a_N}}{\\Gamma(a_N)} \\tau^{a_N - 1} \\exp(-b_N \\tau) $$\n",
    "\n",
    "according to Hint 2, the prior is conjugate to the likelihood, so the posterior update of $q^*(\\tau)$ is also a Gamma distribution\n",
    "\n",
    "where\n",
    "\n",
    "$$a_N = a_0+\\frac{N}{2}$$\n",
    "\n",
    "and\n",
    "\n",
    "$$b_N = b_0 +\\frac{1}{2} \\left(\\sum_{i=1}^N x_i^2 − 2 \\mu_* \\sum_{i=1}^N x_i + N(\\mu_*^2 + \\sigma_*^2) \\right)$$ "
   ]
  }
 ],
 "metadata": {
  "language_info": {
   "name": "python"
  },
  "orig_nbformat": 4
 },
 "nbformat": 4,
 "nbformat_minor": 2
}
