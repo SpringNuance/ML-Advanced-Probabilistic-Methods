{
 "cells": [
  {
   "attachments": {},
   "cell_type": "markdown",
   "metadata": {},
   "source": [
    "(3) Laplace approximation \n",
    "\n",
    "Approximate the Gamma distribution with parameters a and b, Gamma(x|a,b) using the Laplace approximation, i.e., the approximating distribution is the Gaussian centered at the mode of the original distribution. Parameters a and b are known constants, and you can assume that a and b are known constants.\n",
    "\n",
    "Hint: use $E(x) = - \\log \\text{Gamma}(x| a, b) $ as the starting point (6p) "
   ]
  },
  {
   "attachments": {},
   "cell_type": "markdown",
   "metadata": {},
   "source": [
    "Step 1: Derive the gradient $-\\nabla \\log Gamma(x, a|b)$ and the Hessian $\\mathbf{H} = -\\nabla\\nabla\\log Gamma(x, a|b)$ needed for the Laplace approximation. \n",
    "\n",
    "We have:\n",
    "\n",
    "$Gamma(x|a,b) = \\dfrac{b^a}{\\Gamma(a)} x^{a-1} \\exp(-bx)$\n",
    "\n",
    "$\\log \\text{Gamma}(x∣a,b)= a \\log b - \\log\\Gamma(a) + (a−1) \\log x - bx$\n",
    "\n",
    "$=> E(x) = - \\log \\text{Gamma}(x∣a,b)= - a \\log b + \\log\\Gamma(a) - (a−1) \\log x + bx$"
   ]
  },
  {
   "attachments": {},
   "cell_type": "markdown",
   "metadata": {},
   "source": [
    "The gradient of the energy for the Laplace approximation is:\n",
    "\n",
    "$$ \\nabla E = -\\nabla \\log Gamma(x|a,b) = \\dfrac{\\partial} {\\partial x} E(x) \\\\ = \\dfrac{\\partial} {\\partial x}[- a \\log b + \\log\\Gamma(a) - (a−1) \\log x + bx]  = \\dfrac{1-a}{x} + b\n",
    "$$ \n",
    "\n",
    "The Hessian of the energy for the Laplace approximation is:\n",
    "\n",
    "$$ \\nabla E = -\\nabla \\nabla \\log Gamma(x|a,b) = \\dfrac{\\partial^2} {\\partial^2 x} E(x) \\\\ = \\dfrac{\\partial} {\\partial x}\\left[\\dfrac{1-a}{x} + x \\right] = -\\dfrac{1-a}{x^2} =  \\dfrac{a-1}{x^2} $$\n",
    "$$ \n",
    "\n"
   ]
  },
  {
   "attachments": {},
   "cell_type": "markdown",
   "metadata": {},
   "source": [
    "Step 2: Find the mode of the Gamma distribution, which is the solution of the equation $\\nabla E(x) = 0$\n",
    "\n",
    "$$ \\nabla E = 0 => \\dfrac{1-a}{x} + b = 0 => \\hat{x} = \\dfrac{a-1}{b} $$\n",
    "\n",
    "Then, substituting the mode $\\hat{x}$ into the Hessian, we get:\n",
    "\n",
    "$$ \\nabla \\nabla E(\\hat{x}) = \\dfrac{a-1}{\\hat{x}^2} = \\dfrac{b^2}{a-1} $$ "
   ]
  },
  {
   "attachments": {},
   "cell_type": "markdown",
   "metadata": {},
   "source": [
    "Step 3: Given $\\hat{x}$, the Laplace approximation is given by\n",
    "$$q(x) = \\mathcal{N}(x| \\textbf{m}, \\textbf{S}), \\quad\\quad \\textbf{S} = \\textbf{H}^{-1}(\\boldsymbol{\\theta})$$\n",
    "\n",
    "where the mean $\\textbf{m} = \\hat{x}$ is the mode/mean of the approximating Gaussian distribution and the covariance matrix $\\textbf{S}$ is the inverse Hessian of $E(x)$ evaluated at the point $\\hat{x}$ \n",
    "\n",
    "Therefore, the Laplace approximation for the Gamma distribution is:\n",
    "\n",
    "$$q(x) = \\mathcal{N}\\left(x \\mid \\dfrac{a-1}{b} , \\dfrac{a-1}{b^2}\\right)$$"
   ]
  }
 ],
 "metadata": {
  "language_info": {
   "name": "python"
  },
  "orig_nbformat": 4
 },
 "nbformat": 4,
 "nbformat_minor": 2
}
