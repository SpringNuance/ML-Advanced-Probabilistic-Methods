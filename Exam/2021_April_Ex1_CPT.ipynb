{
 "cells": [
  {
   "attachments": {},
   "cell_type": "markdown",
   "metadata": {},
   "source": [
    "(1B) Compute $p(x_2 = 1 | x_3 = 1)$. (5p)"
   ]
  },
  {
   "attachments": {},
   "cell_type": "markdown",
   "metadata": {},
   "source": [
    "$p(x_2=1)=\n",
    "\\\\p(x_1=0)p(x_2=1|x_1=0)+\n",
    "\\\\p(x_1=1)p(x_2=1|x_1=1) \n",
    "\\\\= 0.4 \\times 0.3 + 0.6 \\times 0.5 = 0.42$\n",
    "\n",
    "$p(x_3=1)=\n",
    "\\\\p(x_1=0)p(x_2=0|x_1=0)p(x_3=1|x_2=0) + \n",
    "\\\\p(x_1=0)p(x_2=1|x_1=0)p(x_3=1|x_2=1) + \n",
    "\\\\p(x_1=1)p(x_2=0|x_1=1)p(x_3=1|x_2=0) + \n",
    "\\\\p(x_1=1)p(x_2=1|x_1=1)p(x_3=1|x_2=1) =\n",
    "\\\\0.4 \\times 0.7 \\times 0.1 + \n",
    "\\\\0.4 \\times 0.3 \\times 0.8 + \n",
    "\\\\0.6 \\times 0.5 \\times 0.1 + \n",
    "\\\\0.6 \\times 0.5 \\times 0.8 =\n",
    "\\\\ 0.394$\n",
    "\n",
    "$ p(x_2=1|x_3=1) = \\dfrac{p(x_3=1|x_2=1) p(x_2=1)}{p(x_3=1)} = 0.8 \\times 0.42 / 0.394 = \\dfrac{168}{197} = 0.8527\n",
    "$"
   ]
  }
 ],
 "metadata": {
  "language_info": {
   "name": "python"
  },
  "orig_nbformat": 4
 },
 "nbformat": 4,
 "nbformat_minor": 2
}
