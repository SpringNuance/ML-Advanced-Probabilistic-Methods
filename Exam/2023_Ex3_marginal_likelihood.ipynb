{
 "cells": [
  {
   "attachments": {},
   "cell_type": "markdown",
   "metadata": {},
   "source": [
    "(Q3) Marginal likelihood\n",
    "\n",
    "(A) Suppose the data $\\mathbf{x}=\\{x_n\\}^N_{n=1}$ are distributed as $x_n \\overset {\\text{i.i.d}} \\sim Exp(\\lambda)$ and assume a prior $\\lambda \\sim Gamma(\\alpha, \\beta)$. Derive the marginal likelihood $p(\\mathbf{x}|\\alpha,\\beta)$.Hint: The Gamma prior is conjugate to the Exponential likelihood. (4p)\n",
    "\n",
    "(B) Give two example of possible uses of the calculated marginal likelihood $p(\\mathbf{x}|\\alpha, \\beta)$. (2p)"
   ]
  },
  {
   "cell_type": "markdown",
   "metadata": {},
   "source": []
  },
  {
   "cell_type": "markdown",
   "metadata": {},
   "source": []
  }
 ],
 "metadata": {
  "language_info": {
   "name": "python"
  },
  "orig_nbformat": 4
 },
 "nbformat": 4,
 "nbformat_minor": 2
}
