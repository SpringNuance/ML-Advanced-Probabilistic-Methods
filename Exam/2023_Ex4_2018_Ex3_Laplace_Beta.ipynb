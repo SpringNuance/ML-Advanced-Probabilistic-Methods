{
 "cells": [
  {
   "attachments": {},
   "cell_type": "markdown",
   "metadata": {},
   "source": [
    "(4) Laplace approximation \n",
    "\n",
    "Approximate the Beta distribution with parameters a and b, Beta(x|a,b) using the Laplace approximation, i.e., the approximating distribution is the Gaussian centered at the mode of the original distribution. Parameters a and b are known constants, and you can assume that a > 1, and b > 1, such that the Beta distribution has a mode in the interval (0,1). \n",
    "\n",
    "Hint: use $E(x) = - \\log Beta(x| a,b) $ as the starting point (6p) "
   ]
  },
  {
   "attachments": {},
   "cell_type": "markdown",
   "metadata": {},
   "source": [
    "Step 1: Derive the gradient $-\\nabla \\log Beta(x| a,b)$ and the Hessian $\\mathbf{H} = -\\nabla\\nabla\\log Beta(x| a,b)$ needed for the Laplace approximation. \n",
    "\n",
    "We have:\n",
    "\n",
    "$Beta(x|a,b) = \\dfrac{ x^{a-1} (1-x)^{b-1}}{B(a,b)} = \\dfrac{\\Gamma(a+b)}{\\Gamma(a)\\Gamma(b)} x^{a-1} (1-x)^{b-1}$\n",
    "\n",
    "$\\log \\text{Beta}(x∣a,b)= \\log\\Gamma(a+b) - \\log \\Gamma(a) - \\log\\Gamma(b) − (a−1)  \\log x + (b−1) \\log (1−x)$\n",
    "\n",
    "$=> E(x) = - \\log \\text{Beta}(x∣a,b)= - \\log\\Gamma(a+b) + \\log \\Gamma(a) + \\log\\Gamma(b) - (a−1) \\log x - (b−1) \\log (1−x)$"
   ]
  },
  {
   "attachments": {},
   "cell_type": "markdown",
   "metadata": {},
   "source": [
    "The gradient of the energy for the Laplace approximation is:\n",
    "\n",
    "$$ \\nabla E = -\\nabla \\log Beta(x|a,b) = \\dfrac{\\partial} {\\partial x} E(x) \\\\ = \\dfrac{\\partial} {\\partial x}[- \\log\\Gamma(a+b) + \\log \\Gamma(a) + \\log\\Gamma(b) - (a−1) \\log x - (b−1) \\log (1−x)] = \\\\\n",
    "-\\dfrac{a-1}{x} + \\dfrac{b-1}{1-x} = \\dfrac{1-a}{x} + \\dfrac{1-b}{x-1}\n",
    "$$ \n",
    "\n",
    "The Hessian of the energy for the Laplace approximation is:\n",
    "\n",
    "$$ \\nabla \\nabla E = -\\nabla \\nabla \\log Beta(x|a,b) = \\dfrac{\\partial^2} {\\partial^2 x} E(x) \\\\ = \\dfrac{\\partial} {\\partial x}\\left[\\dfrac{1-a}{x} + \\dfrac{1-b}{x-1} \\right] = \\dfrac{\\partial} {\\partial x}\\left[(1-a)\\dfrac{1}{x} + (1-b)\\dfrac{1}{x-1} \\right] \\\\\n",
    "= (1-a)(- \\dfrac{1}{x^2}) + (1-b)(-\\dfrac{1}{(x-1)^2}) = \\dfrac{a-1}{x^2} + \\dfrac{b-1}{(x-1)^2}\n",
    "$$ \n",
    "\n"
   ]
  },
  {
   "attachments": {},
   "cell_type": "markdown",
   "metadata": {},
   "source": [
    "Step 2: Find the mode of the Beta distribution, which is the solution of the equation $\\nabla E(x) = 0$\n",
    "\n",
    "$$ \\nabla E = 0 => \\dfrac{1-a}{x} + \\dfrac{1-b}{x-1} = 0 => \\hat{x} = \\dfrac{a-1}{a+b-2} $$\n",
    "\n",
    "Then, substituting the mode $\\hat{x}$ into the Hessian, we get:\n",
    "\n",
    "$$ \\nabla \\nabla E(\\hat{x}) = \\dfrac{a-1}{\\hat{x}^2} + \\dfrac{b-1}{(\\hat{x}-1)^2} = \\dfrac{a+b-2}{a-1}  + \\dfrac{a+b-2}{b-1} = \\dfrac{(a+b-2)^2}{(a-1)(b-1)} $$ "
   ]
  },
  {
   "attachments": {},
   "cell_type": "markdown",
   "metadata": {},
   "source": [
    "Step 3: Given $\\hat{x}$, the Laplace approximation is given by\n",
    "$$q(x) = \\mathcal{N}(x| \\textbf{m}, \\textbf{S}), \\quad\\quad \\textbf{S} = \\textbf{H}^{-1}(\\boldsymbol{\\hat{x}})$$\n",
    "\n",
    "where the mean $\\textbf{m} = \\hat{x}$ is the mode/mean of the approximating Gaussian distribution and the covariance matrix $\\textbf{S}$ is the inverse Hessian of $E(x)$ evaluated at the point $\\hat{x}$ \n",
    "\n",
    "Therefore, the Laplace approximation for the Beta distribution is:\n",
    "\n",
    "$$q(x) = \\mathcal{N}\\left(x \\mid \\dfrac{a-1}{a+b-2} , \\dfrac{(a-1)(b-1)}{(a+b-2)^2}\\right)$$"
   ]
  }
 ],
 "metadata": {
  "language_info": {
   "name": "python"
  },
  "orig_nbformat": 4
 },
 "nbformat": 4,
 "nbformat_minor": 2
}
